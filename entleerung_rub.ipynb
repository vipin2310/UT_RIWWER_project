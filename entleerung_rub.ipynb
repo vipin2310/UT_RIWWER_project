{
 "cells": [
  {
   "cell_type": "code",
   "execution_count": null,
   "metadata": {},
   "outputs": [],
   "source": [
    "from main import main, context_length, prediction_length\n",
    "from vierlinden.data.loader import VierlindenDataProcessor\n",
    "from vierlinden.config import model_output_path\n",
    "\n",
    "target = \"Entleerung_RüB\"\n",
    "model_filepath = model_output_path + \"/NHiTS\"  + target + \"_model.pt\"\n",
    "\n",
    "dp = VierlindenDataProcessor()\n",
    "df = dp.load_processed_data()\n",
    "df = dp.prepare_for_target(df, target)\n",
    "dp.plot_target_col(target)"
   ]
  },
  {
   "cell_type": "markdown",
   "metadata": {},
   "source": [
    "## Training"
   ]
  },
  {
   "cell_type": "code",
   "execution_count": null,
   "metadata": {},
   "outputs": [],
   "source": [
    "training_wrapper, test_df = main(target)\n",
    "training_wrapper.save_trained_model(model_filepath)\n",
    "\n",
    "print(training_wrapper.metrics_callback.metrics[\"train_loss\"])\n",
    "print(training_wrapper.metrics_callback.metrics[\"val_loss\"])\n",
    "\n",
    "training_wrapper.plot_training_result()"
   ]
  },
  {
   "cell_type": "markdown",
   "metadata": {},
   "source": [
    "## Testing"
   ]
  },
  {
   "cell_type": "code",
   "execution_count": null,
   "metadata": {},
   "outputs": [],
   "source": [
    "from vierlinden.model.model import NHiTSTrainingWrapper, NHiTSPredictionWrapper\n",
    "\n",
    "model = NHiTSTrainingWrapper.load_trained_model(model_filepath)\n",
    "prediction_wrapper = NHiTSPredictionWrapper(model, context_length=context_length, prediction_length=prediction_length, target_col=target)\n",
    "\n",
    "if test_df is None:\n",
    "    df = dp.load_processed_data()\n",
    "    df = dp.prepare_for_target(df, target)\n",
    "    training_df, test_df = dp.split_data(df)\n",
    "    \n",
    "prediction_df = prediction_wrapper.predict(test_df)\n",
    "mase = prediction_wrapper.calculate_mase_loss()\n",
    "\n",
    "print(\"MASE = \", mase)"
   ]
  },
  {
   "cell_type": "code",
   "execution_count": null,
   "metadata": {},
   "outputs": [],
   "source": [
    "prediction_df.iloc[110:120]"
   ]
  },
  {
   "cell_type": "code",
   "execution_count": null,
   "metadata": {},
   "outputs": [],
   "source": [
    "prediction_wrapper.plot_forecast_for_all(forecast_step_ahead=1, plot_forecast_distribution=True)"
   ]
  },
  {
   "cell_type": "code",
   "execution_count": null,
   "metadata": {},
   "outputs": [],
   "source": [
    "prediction_wrapper.plot_forecast_per_time_idx(115)\n",
    "prediction_wrapper.plot_forecast_per_time_idx(120)"
   ]
  }
 ],
 "metadata": {
  "kernelspec": {
   "display_name": ".venv",
   "language": "python",
   "name": "python3"
  },
  "language_info": {
   "name": "python",
   "version": "3.10.10"
  }
 },
 "nbformat": 4,
 "nbformat_minor": 2
}
