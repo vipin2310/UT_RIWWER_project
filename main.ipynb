{
 "cells": [
  {
   "cell_type": "code",
   "execution_count": 1,
   "metadata": {},
   "outputs": [
    {
     "name": "stderr",
     "output_type": "stream",
     "text": [
      "/storage/.venv/lib/python3.10/site-packages/pytorch_forecasting/models/base_model.py:30: TqdmWarning: IProgress not found. Please update jupyter and ipywidgets. See https://ipywidgets.readthedocs.io/en/stable/user_install.html\n",
      "  from tqdm.autonotebook import tqdm\n"
     ]
    }
   ],
   "source": [
    "from vierlinden.config import model_output_path\n",
    "from vierlinden.data.loader import VierlindenDataProcessor\n",
    "from vierlinden.model.model import NHitsTrainingWrapper\n",
    "\n",
    "batch_size = 32\n",
    "num_workers = 18\n",
    "\n",
    "def main(arg : str):\n",
    "    dp = VierlindenDataProcessor()\n",
    "    df = dp.load_processed_data()\n",
    "    df = dp.prepare_for_target(df, arg)\n",
    "    \n",
    "    training_df, test_df = dp.split_data(df)\n",
    "    \n",
    "    nhits_wrapper = NHitsTrainingWrapper(training_df, arg, batch_size, num_workers)\n",
    "    optimal_lr = nhits_wrapper.find_optimal_learningrate(seed=42)\n",
    "    \n",
    "    print(f\"Optimal learning rate for {arg}: {optimal_lr}\")\n",
    "    \n",
    "    best_model = nhits_wrapper.train(optimal_lr, seed = 42)\n",
    "    \n",
    "    return nhits_wrapper"
   ]
  },
  {
   "cell_type": "code",
   "execution_count": 2,
   "metadata": {},
   "outputs": [
    {
     "name": "stderr",
     "output_type": "stream",
     "text": [
      "INFO:vierlinden.data.loader:Data loaded successfully from /storage/projects/RIWWER/data/Vierlinden\n",
      "INFO:vierlinden.data.loader:Sensor and target data merged successfully.\n",
      "INFO:vierlinden.data.loader:NaN values processed successfully.\n",
      "INFO:vierlinden.data.loader:Data loaded and processed successfully.\n"
     ]
    },
    {
     "name": "stderr",
     "output_type": "stream",
     "text": [
      "INFO:vierlinden.model.model:Training and validation data and data loaders created successfully.\n",
      "Global seed set to 42\n",
      "Finding best initial lr:  99%|█████████▉| 99/100 [00:03<00:00, 33.79it/s]`Trainer.fit` stopped: `max_steps=100` reached.\n",
      "Finding best initial lr: 100%|██████████| 100/100 [00:03<00:00, 31.40it/s]\n",
      "INFO:vierlinden.model.model:Start setting up trainer and network.\n",
      "Global seed set to 42\n",
      "INFO:vierlinden.model.model:Setup succesful. Starting training procedure.\n"
     ]
    },
    {
     "name": "stdout",
     "output_type": "stream",
     "text": [
      "Optimal learning rate for Kaiserstr_outflow [l/s]: 0.0001778279410038923\n"
     ]
    },
    {
     "name": "stderr",
     "output_type": "stream",
     "text": [
      "\n",
      "  | Name            | Type           | Params\n",
      "---------------------------------------------------\n",
      "0 | loss            | MASE           | 0     \n",
      "1 | logging_metrics | ModuleList     | 0     \n",
      "2 | embeddings      | MultiEmbedding | 0     \n",
      "3 | model           | NHiTS          | 872 K \n",
      "---------------------------------------------------\n",
      "872 K     Trainable params\n",
      "0         Non-trainable params\n",
      "872 K     Total params\n",
      "3.488     Total estimated model params size (MB)\n"
     ]
    },
    {
     "name": "stdout",
     "output_type": "stream",
     "text": [
      "Epoch 0: 100%|██████████| 193/193 [00:35<00:00,  5.44it/s, v_num=0, train_loss_step=2.180, val_loss=1.080, train_loss_epoch=1.570]"
     ]
    },
    {
     "name": "stderr",
     "output_type": "stream",
     "text": [
      "Metric val_loss improved. New best score: 1.079\n",
      "`Trainer.fit` stopped: `max_epochs=1` reached.\n"
     ]
    },
    {
     "name": "stdout",
     "output_type": "stream",
     "text": [
      "Epoch 0: 100%|██████████| 193/193 [00:35<00:00,  5.42it/s, v_num=0, train_loss_step=2.180, val_loss=1.080, train_loss_epoch=1.570]\n"
     ]
    },
    {
     "name": "stderr",
     "output_type": "stream",
     "text": [
      "INFO:vierlinden.model.model:Training procedure completed.\n",
      "INFO:vierlinden.model.model:Cleaning up logging files.\n"
     ]
    }
   ],
   "source": [
    "nhits_wrapper = main('Kaiserstr_outflow [l/s]')"
   ]
  },
  {
   "cell_type": "code",
   "execution_count": null,
   "metadata": {},
   "outputs": [],
   "source": [
    "nhits_wrapper.save_trained_model(model_output_path + \"/\"  + 'NHiTS_Kaiserstr_model.pt')"
   ]
  },
  {
   "cell_type": "code",
   "execution_count": null,
   "metadata": {},
   "outputs": [],
   "source": [
    "model = NHitsTrainingWrapper.load_trained_model(model_output_path + \"/\"  + 'NHiTS_Kaiserstr_model.pt')"
   ]
  },
  {
   "cell_type": "code",
   "execution_count": null,
   "metadata": {},
   "outputs": [],
   "source": [
    "print(model)"
   ]
  }
 ],
 "metadata": {
  "kernelspec": {
   "display_name": ".venv",
   "language": "python",
   "name": "python3"
  },
  "language_info": {
   "codemirror_mode": {
    "name": "ipython",
    "version": 3
   },
   "file_extension": ".py",
   "mimetype": "text/x-python",
   "name": "python",
   "nbconvert_exporter": "python",
   "pygments_lexer": "ipython3",
   "version": "3.10.10"
  }
 },
 "nbformat": 4,
 "nbformat_minor": 2
}
