{
 "cells": [
  {
   "cell_type": "code",
   "execution_count": null,
   "metadata": {},
   "outputs": [],
   "source": [
    "from vierlinden.config import model_output_path\n",
    "from vierlinden.data.loader import VierlindenDataProcessor\n",
    "from vierlinden.model.model import NHiTSTrainingWrapper\n",
    "from tensorboard import notebook\n",
    "\n",
    "seed = 42\n",
    "\n",
    "context_length = 50\n",
    "prediction_length = 10\n",
    "batch_size = 32\n",
    "num_workers = 18\n",
    "\n",
    "def main(arg : str):\n",
    "    dp = VierlindenDataProcessor()\n",
    "    df = dp.load_processed_data()\n",
    "    df = dp.prepare_for_target(df, arg)\n",
    "    \n",
    "    training_df, test_df = dp.split_data(df)\n",
    "    \n",
    "    nhits_wrapper = NHiTSTrainingWrapper(training_df, \n",
    "                                         target_col = arg, \n",
    "                                         context_length = context_length, \n",
    "                                         prediction_length = prediction_length,\n",
    "                                         batch_size = batch_size, \n",
    "                                         num_workers = num_workers)\n",
    "    optimal_lr = nhits_wrapper.find_optimal_learningrate(seed = seed)\n",
    "    \n",
    "    print(f\"Optimal learning rate for {arg}: {optimal_lr}\")\n",
    "    \n",
    "    best_model = nhits_wrapper.train(optimal_lr, seed = seed, max_epochs=2)\n",
    "    \n",
    "    return nhits_wrapper"
   ]
  },
  {
   "cell_type": "code",
   "execution_count": null,
   "metadata": {},
   "outputs": [],
   "source": [
    "dp = VierlindenDataProcessor()\n",
    "df = dp.load_processed_data()\n",
    "df = dp.prepare_for_target(df, 'Kaiserstr_outflow [l/s]')\n",
    "dp.plot_target_col('Kaiserstr_outflow [l/s]')"
   ]
  },
  {
   "cell_type": "code",
   "execution_count": null,
   "metadata": {},
   "outputs": [],
   "source": [
    "nhits_wrapper = main('Kaiserstr_outflow [l/s]')"
   ]
  },
  {
   "cell_type": "code",
   "execution_count": null,
   "metadata": {},
   "outputs": [],
   "source": [
    "print(nhits_wrapper.metrics_callback.metrics[\"train_loss\"])\n",
    "print(nhits_wrapper.metrics_callback.metrics[\"val_loss\"])\n",
    "\n",
    "nhits_wrapper.plot_training_result()"
   ]
  },
  {
   "cell_type": "code",
   "execution_count": null,
   "metadata": {},
   "outputs": [],
   "source": [
    "nhits_wrapper.save_trained_model(model_output_path + \"/\"  + 'test.pt')"
   ]
  },
  {
   "cell_type": "code",
   "execution_count": null,
   "metadata": {},
   "outputs": [],
   "source": [
    "model = NHiTSTrainingWrapper.load_trained_model(model_output_path + \"/\"  + 'NHiTS_Kaiserstr_model.pt')"
   ]
  },
  {
   "cell_type": "code",
   "execution_count": null,
   "metadata": {},
   "outputs": [],
   "source": [
    "print(model)"
   ]
  }
 ],
 "metadata": {
  "kernelspec": {
   "display_name": ".venv",
   "language": "python",
   "name": "python3"
  },
  "language_info": {
   "codemirror_mode": {
    "name": "ipython",
    "version": 3
   },
   "file_extension": ".py",
   "mimetype": "text/x-python",
   "name": "python",
   "nbconvert_exporter": "python",
   "pygments_lexer": "ipython3",
   "version": "3.10.10"
  }
 },
 "nbformat": 4,
 "nbformat_minor": 2
}
