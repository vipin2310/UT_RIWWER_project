{
 "cells": [
  {
   "cell_type": "code",
   "execution_count": 1,
   "metadata": {},
   "outputs": [
    {
     "name": "stderr",
     "output_type": "stream",
     "text": [
      "/storage/.venv/lib/python3.10/site-packages/pytorch_forecasting/models/base_model.py:30: TqdmWarning: IProgress not found. Please update jupyter and ipywidgets. See https://ipywidgets.readthedocs.io/en/stable/user_install.html\n",
      "  from tqdm.autonotebook import tqdm\n"
     ]
    }
   ],
   "source": [
    "from vierlinden.config import model_output_path\n",
    "from vierlinden.data.loader import VierlindenDataProcessor\n",
    "from vierlinden.model.model import NHitsTrainingWrapper\n",
    "\n",
    "batch_size = 32\n",
    "num_workers = 18\n",
    "\n",
    "def main(arg : str):\n",
    "    dp = VierlindenDataProcessor()\n",
    "    df = dp.load_processed_data()\n",
    "    df = dp.prepare_for_target(df, arg)\n",
    "    \n",
    "    training_df, test_df = dp.split_data(df)\n",
    "    \n",
    "    nhits_wrapper = NHitsTrainingWrapper(training_df, arg, batch_size, num_workers)\n",
    "    optimal_lr = nhits_wrapper.find_optimal_learningrate()\n",
    "    \n",
    "    print(f\"Optimal learning rate for {arg}: {optimal_lr}\")\n",
    "    \n",
    "    trainer = nhits_wrapper.train(optimal_lr, seed = 42)\n",
    "    \n",
    "    return trainer, test_df, nhits_wrapper"
   ]
  },
  {
   "cell_type": "code",
   "execution_count": 2,
   "metadata": {},
   "outputs": [
    {
     "name": "stderr",
     "output_type": "stream",
     "text": [
      "INFO:vierlinden.data.loader:Data loaded successfully from /storage/projects/RIWWER/data/Vierlinden\n",
      "INFO:vierlinden.data.loader:Sensor and target data merged successfully.\n",
      "INFO:vierlinden.data.loader:NaN values processed successfully.\n",
      "INFO:vierlinden.data.loader:Data loaded and processed successfully.\n"
     ]
    },
    {
     "name": "stderr",
     "output_type": "stream",
     "text": [
      "INFO:vierlinden.model.model:Training and validation data and data loaders created successfully.\n",
      "GPU available: True (cuda), used: True\n",
      "TPU available: False, using: 0 TPU cores\n",
      "IPU available: False, using: 0 IPUs\n",
      "HPU available: False, using: 0 HPUs\n",
      "/storage/.venv/lib/python3.10/site-packages/lightning/pytorch/utilities/parsing.py:197: UserWarning: Attribute 'loss' is an instance of `nn.Module` and is already saved during checkpointing. It is recommended to ignore them using `self.save_hyperparameters(ignore=['loss'])`.\n",
      "  rank_zero_warn(\n",
      "/storage/.venv/lib/python3.10/site-packages/lightning/pytorch/utilities/parsing.py:197: UserWarning: Attribute 'logging_metrics' is an instance of `nn.Module` and is already saved during checkpointing. It is recommended to ignore them using `self.save_hyperparameters(ignore=['logging_metrics'])`.\n",
      "  rank_zero_warn(\n",
      "LOCAL_RANK: 0 - CUDA_VISIBLE_DEVICES: [0]\n",
      "Finding best initial lr:  98%|█████████▊| 98/100 [00:03<00:00, 33.84it/s]`Trainer.fit` stopped: `max_steps=100` reached.\n",
      "Finding best initial lr: 100%|██████████| 100/100 [00:03<00:00, 30.26it/s]\n",
      "Learning rate set to 0.0019952623149688802\n",
      "Restoring states from the checkpoint path at /storage/projects/RIWWER/UT_RIWWER_project/.lr_find_0cbd0f86-f05f-4bdd-aff1-1478c8d1e354.ckpt\n",
      "Restored all states from the checkpoint at /storage/projects/RIWWER/UT_RIWWER_project/.lr_find_0cbd0f86-f05f-4bdd-aff1-1478c8d1e354.ckpt\n",
      "INFO:vierlinden.model.model:Start setting up trainer and network.\n",
      "Global seed set to 42\n",
      "GPU available: True (cuda), used: True\n",
      "TPU available: False, using: 0 TPU cores\n",
      "IPU available: False, using: 0 IPUs\n",
      "HPU available: False, using: 0 HPUs\n",
      "INFO:vierlinden.model.model:Setup succesful. Starting training procedure.\n"
     ]
    },
    {
     "name": "stdout",
     "output_type": "stream",
     "text": [
      "Optimal learning rate for Kaiserstr_outflow [l/s]: 0.0019952623149688802\n"
     ]
    },
    {
     "name": "stderr",
     "output_type": "stream",
     "text": [
      "LOCAL_RANK: 0 - CUDA_VISIBLE_DEVICES: [0]\n",
      "\n",
      "  | Name            | Type           | Params\n",
      "---------------------------------------------------\n",
      "0 | loss            | MASE           | 0     \n",
      "1 | logging_metrics | ModuleList     | 0     \n",
      "2 | embeddings      | MultiEmbedding | 0     \n",
      "3 | model           | NHiTS          | 872 K \n",
      "---------------------------------------------------\n",
      "872 K     Trainable params\n",
      "0         Non-trainable params\n",
      "872 K     Total params\n",
      "3.488     Total estimated model params size (MB)\n"
     ]
    },
    {
     "name": "stdout",
     "output_type": "stream",
     "text": [
      "Epoch 0: 100%|██████████| 193/193 [00:34<00:00,  5.62it/s, v_num=1, train_loss_step=2.140, val_loss=1.060, train_loss_epoch=1.510]"
     ]
    },
    {
     "name": "stderr",
     "output_type": "stream",
     "text": [
      "Metric val_loss improved. New best score: 1.061\n"
     ]
    },
    {
     "name": "stdout",
     "output_type": "stream",
     "text": [
      "Epoch 4:   0%|          | 0/193 [00:00<?, ?it/s, v_num=1, train_loss_step=1.190, val_loss=1.130, train_loss_epoch=1.400]          "
     ]
    },
    {
     "name": "stderr",
     "output_type": "stream",
     "text": [
      "Swapping scheduler `ReduceLROnPlateau` for `SWALR`\n"
     ]
    },
    {
     "name": "stdout",
     "output_type": "stream",
     "text": [
      "Epoch 10: 100%|██████████| 193/193 [00:37<00:00,  5.21it/s, v_num=1, train_loss_step=0.662, val_loss=1.150, train_loss_epoch=1.250]"
     ]
    },
    {
     "name": "stderr",
     "output_type": "stream",
     "text": [
      "Monitored metric val_loss did not improve in the last 10 records. Best score: 1.061. Signaling Trainer to stop.\n"
     ]
    },
    {
     "name": "stdout",
     "output_type": "stream",
     "text": [
      "Epoch 10: 100%|██████████| 193/193 [00:37<00:00,  5.17it/s, v_num=1, train_loss_step=0.662, val_loss=1.150, train_loss_epoch=1.250]\n"
     ]
    },
    {
     "name": "stderr",
     "output_type": "stream",
     "text": [
      "INFO:vierlinden.model.model:Training procedure completed.\n"
     ]
    }
   ],
   "source": [
    "trainer, test_df, nhits_wrapper = main('Kaiserstr_outflow [l/s]')"
   ]
  },
  {
   "cell_type": "code",
   "execution_count": 4,
   "metadata": {},
   "outputs": [],
   "source": [
    "trainer.save_checkpoint(model_output_path + \"/\" + 'NHits_Vierlinden_Kaiserstr.ckpt')"
   ]
  },
  {
   "cell_type": "code",
   "execution_count": null,
   "metadata": {},
   "outputs": [],
   "source": []
  }
 ],
 "metadata": {
  "kernelspec": {
   "display_name": ".venv",
   "language": "python",
   "name": "python3"
  },
  "language_info": {
   "codemirror_mode": {
    "name": "ipython",
    "version": 3
   },
   "file_extension": ".py",
   "mimetype": "text/x-python",
   "name": "python",
   "nbconvert_exporter": "python",
   "pygments_lexer": "ipython3",
   "version": "3.10.10"
  }
 },
 "nbformat": 4,
 "nbformat_minor": 2
}
