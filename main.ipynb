{
 "cells": [
  {
   "cell_type": "code",
   "execution_count": 1,
   "metadata": {},
   "outputs": [
    {
     "name": "stderr",
     "output_type": "stream",
     "text": [
      "/storage/.venv/lib/python3.10/site-packages/pytorch_forecasting/models/base_model.py:30: TqdmWarning: IProgress not found. Please update jupyter and ipywidgets. See https://ipywidgets.readthedocs.io/en/stable/user_install.html\n",
      "  from tqdm.autonotebook import tqdm\n"
     ]
    }
   ],
   "source": [
    "from vierlinden.config import model_output_path\n",
    "from vierlinden.data.loader import VierlindenDataProcessor\n",
    "from vierlinden.model.model import NHiTSTrainingWrapper, NHiTSPredictionWrapper\n",
    "\n",
    "seed = 42\n",
    "\n",
    "context_length = 50\n",
    "prediction_length = 10\n",
    "batch_size = 32\n",
    "num_workers = 18\n",
    "\n",
    "def main(arg : str):\n",
    "    dp = VierlindenDataProcessor()\n",
    "    df = dp.load_processed_data()\n",
    "    df = dp.prepare_for_target(df, arg)\n",
    "    \n",
    "    training_df, test_df = dp.split_data(df)\n",
    "    \n",
    "    nhits_wrapper = NHiTSTrainingWrapper(training_df, \n",
    "                                         target_col = arg, \n",
    "                                         context_length = context_length, \n",
    "                                         prediction_length = prediction_length,\n",
    "                                         batch_size = batch_size, \n",
    "                                         num_workers = num_workers)\n",
    "    optimal_lr = nhits_wrapper.find_optimal_learningrate(seed = seed)\n",
    "    \n",
    "    print(f\"Optimal learning rate for {arg}: {optimal_lr}\")\n",
    "    \n",
    "    best_model = nhits_wrapper.train(optimal_lr, seed = seed, max_epochs=2)\n",
    "    \n",
    "    return nhits_wrapper, test_df"
   ]
  },
  {
   "cell_type": "code",
   "execution_count": null,
   "metadata": {},
   "outputs": [],
   "source": [
    "dp = VierlindenDataProcessor()\n",
    "df = dp.load_processed_data()\n",
    "df = dp.prepare_for_target(df, 'Kaiserstr_outflow [l/s]')\n",
    "dp.plot_target_col('Kaiserstr_outflow [l/s]')"
   ]
  },
  {
   "cell_type": "code",
   "execution_count": null,
   "metadata": {},
   "outputs": [],
   "source": [
    "nhits_wrapper, test_df = main('Kaiserstr_outflow [l/s]')"
   ]
  },
  {
   "cell_type": "code",
   "execution_count": null,
   "metadata": {},
   "outputs": [],
   "source": [
    "model_output_path"
   ]
  },
  {
   "cell_type": "code",
   "execution_count": 2,
   "metadata": {},
   "outputs": [
    {
     "name": "stderr",
     "output_type": "stream",
     "text": [
      "INFO:vierlinden.data.loader:Data loaded successfully from /storage/projects/RIWWER/data/Vierlinden\n",
      "INFO:vierlinden.data.loader:Sensor and target data merged successfully.\n",
      "INFO:vierlinden.data.loader:NaN values processed successfully.\n",
      "INFO:vierlinden.data.loader:Data loaded and processed successfully.\n"
     ]
    },
    {
     "data": {
      "text/plain": [
       "(868, 24)"
      ]
     },
     "execution_count": 2,
     "metadata": {},
     "output_type": "execute_result"
    }
   ],
   "source": [
    "dp = VierlindenDataProcessor()\n",
    "df = dp.load_processed_data()\n",
    "df = dp.prepare_for_target(df, 'Kaiserstr_outflow [l/s]')\n",
    "\n",
    "training_df, test_df = dp.split_data(df)\n",
    "test_df.shape"
   ]
  },
  {
   "cell_type": "code",
   "execution_count": null,
   "metadata": {},
   "outputs": [],
   "source": [
    "model = nhits_wrapper.best_model"
   ]
  },
  {
   "cell_type": "code",
   "execution_count": 3,
   "metadata": {},
   "outputs": [],
   "source": [
    "model = NHiTSTrainingWrapper.load_trained_model(model_output_path + \"/\"  + 'test.pt')"
   ]
  },
  {
   "cell_type": "code",
   "execution_count": 4,
   "metadata": {},
   "outputs": [
    {
     "name": "stdout",
     "output_type": "stream",
     "text": [
      "9\n"
     ]
    },
    {
     "name": "stderr",
     "output_type": "stream",
     "text": [
      "/storage/.venv/lib/python3.10/site-packages/lightning/pytorch/trainer/connectors/data_connector.py:442: PossibleUserWarning: The dataloader, predict_dataloader, does not have many workers which may be a bottleneck. Consider increasing the value of the `num_workers` argument` (try 32 which is the number of cpus on this machine) in the `DataLoader` init to improve performance.\n",
      "  rank_zero_warn(\n"
     ]
    }
   ],
   "source": [
    "from vierlinden.model.model import NHiTSPredictionWrapper\n",
    "prediction_wrapper = NHiTSPredictionWrapper(model, context_length=context_length, prediction_length=prediction_length)\n",
    "something = prediction_wrapper.predict(test_df, 'Kaiserstr_outflow [l/s]')"
   ]
  },
  {
   "cell_type": "code",
   "execution_count": 5,
   "metadata": {},
   "outputs": [
    {
     "data": {
      "text/html": [
       "<div>\n",
       "<style scoped>\n",
       "    .dataframe tbody tr th:only-of-type {\n",
       "        vertical-align: middle;\n",
       "    }\n",
       "\n",
       "    .dataframe tbody tr th {\n",
       "        vertical-align: top;\n",
       "    }\n",
       "\n",
       "    .dataframe thead th {\n",
       "        text-align: right;\n",
       "    }\n",
       "</style>\n",
       "<table border=\"1\" class=\"dataframe\">\n",
       "  <thead>\n",
       "    <tr style=\"text-align: right;\">\n",
       "      <th></th>\n",
       "      <th>0</th>\n",
       "      <th>1</th>\n",
       "      <th>2</th>\n",
       "      <th>3</th>\n",
       "      <th>4</th>\n",
       "      <th>5</th>\n",
       "      <th>6</th>\n",
       "      <th>7</th>\n",
       "      <th>8</th>\n",
       "      <th>9</th>\n",
       "      <th>decoder_length</th>\n",
       "      <th>time_idx</th>\n",
       "      <th>series</th>\n",
       "    </tr>\n",
       "  </thead>\n",
       "  <tbody>\n",
       "    <tr>\n",
       "      <th>0</th>\n",
       "      <td>-1.886773e-08</td>\n",
       "      <td>-5.521628e-08</td>\n",
       "      <td>-3.555689e-08</td>\n",
       "      <td>-3.540658e-08</td>\n",
       "      <td>-3.113318e-08</td>\n",
       "      <td>-4.963855e-08</td>\n",
       "      <td>-4.343823e-08</td>\n",
       "      <td>-5.617491e-08</td>\n",
       "      <td>-3.855793e-08</td>\n",
       "      <td>-5.542795e-08</td>\n",
       "      <td>10</td>\n",
       "      <td>51</td>\n",
       "      <td>0</td>\n",
       "    </tr>\n",
       "    <tr>\n",
       "      <th>1</th>\n",
       "      <td>-1.682443e-08</td>\n",
       "      <td>-3.684833e-08</td>\n",
       "      <td>-2.303030e-08</td>\n",
       "      <td>-2.422456e-08</td>\n",
       "      <td>-1.577111e-08</td>\n",
       "      <td>-2.903560e-08</td>\n",
       "      <td>-2.805623e-08</td>\n",
       "      <td>-3.645483e-08</td>\n",
       "      <td>-2.459658e-08</td>\n",
       "      <td>-3.142153e-08</td>\n",
       "      <td>10</td>\n",
       "      <td>52</td>\n",
       "      <td>0</td>\n",
       "    </tr>\n",
       "    <tr>\n",
       "      <th>2</th>\n",
       "      <td>-2.880990e-08</td>\n",
       "      <td>-5.954436e-08</td>\n",
       "      <td>-4.045778e-08</td>\n",
       "      <td>-5.864715e-08</td>\n",
       "      <td>-5.192981e-08</td>\n",
       "      <td>-5.145825e-08</td>\n",
       "      <td>-3.721264e-08</td>\n",
       "      <td>-4.882086e-08</td>\n",
       "      <td>-4.243840e-08</td>\n",
       "      <td>-6.180337e-08</td>\n",
       "      <td>10</td>\n",
       "      <td>53</td>\n",
       "      <td>0</td>\n",
       "    </tr>\n",
       "    <tr>\n",
       "      <th>3</th>\n",
       "      <td>-5.830474e-08</td>\n",
       "      <td>-8.270424e-08</td>\n",
       "      <td>-6.291569e-08</td>\n",
       "      <td>-8.291109e-08</td>\n",
       "      <td>-6.149386e-08</td>\n",
       "      <td>-6.071738e-08</td>\n",
       "      <td>-4.949933e-08</td>\n",
       "      <td>-7.510833e-08</td>\n",
       "      <td>-6.516339e-08</td>\n",
       "      <td>-8.930824e-08</td>\n",
       "      <td>10</td>\n",
       "      <td>54</td>\n",
       "      <td>0</td>\n",
       "    </tr>\n",
       "    <tr>\n",
       "      <th>4</th>\n",
       "      <td>-7.040162e-08</td>\n",
       "      <td>-9.388915e-08</td>\n",
       "      <td>-7.216354e-08</td>\n",
       "      <td>-8.012906e-08</td>\n",
       "      <td>-8.196793e-08</td>\n",
       "      <td>-8.893434e-08</td>\n",
       "      <td>-6.072423e-08</td>\n",
       "      <td>-8.232725e-08</td>\n",
       "      <td>-6.845320e-08</td>\n",
       "      <td>-9.646287e-08</td>\n",
       "      <td>10</td>\n",
       "      <td>55</td>\n",
       "      <td>0</td>\n",
       "    </tr>\n",
       "    <tr>\n",
       "      <th>...</th>\n",
       "      <td>...</td>\n",
       "      <td>...</td>\n",
       "      <td>...</td>\n",
       "      <td>...</td>\n",
       "      <td>...</td>\n",
       "      <td>...</td>\n",
       "      <td>...</td>\n",
       "      <td>...</td>\n",
       "      <td>...</td>\n",
       "      <td>...</td>\n",
       "      <td>...</td>\n",
       "      <td>...</td>\n",
       "      <td>...</td>\n",
       "    </tr>\n",
       "    <tr>\n",
       "      <th>813</th>\n",
       "      <td>3.087686e+00</td>\n",
       "      <td>1.418103e+00</td>\n",
       "      <td>1.968570e+00</td>\n",
       "      <td>1.166096e+00</td>\n",
       "      <td>2.055196e+00</td>\n",
       "      <td>2.096983e+00</td>\n",
       "      <td>3.062217e+00</td>\n",
       "      <td>2.560739e+00</td>\n",
       "      <td>3.360461e+00</td>\n",
       "      <td>2.419349e+00</td>\n",
       "      <td>10</td>\n",
       "      <td>864</td>\n",
       "      <td>0</td>\n",
       "    </tr>\n",
       "    <tr>\n",
       "      <th>814</th>\n",
       "      <td>7.702017e-01</td>\n",
       "      <td>-7.522506e-01</td>\n",
       "      <td>4.382892e-01</td>\n",
       "      <td>-5.553329e-02</td>\n",
       "      <td>3.637590e-01</td>\n",
       "      <td>5.837681e-01</td>\n",
       "      <td>1.007415e+00</td>\n",
       "      <td>8.957375e-01</td>\n",
       "      <td>1.066373e+00</td>\n",
       "      <td>3.653450e-01</td>\n",
       "      <td>10</td>\n",
       "      <td>865</td>\n",
       "      <td>0</td>\n",
       "    </tr>\n",
       "    <tr>\n",
       "      <th>815</th>\n",
       "      <td>-9.512991e-01</td>\n",
       "      <td>-1.762932e+00</td>\n",
       "      <td>-1.067788e+00</td>\n",
       "      <td>-1.083850e+00</td>\n",
       "      <td>-2.630400e-01</td>\n",
       "      <td>-5.990751e-01</td>\n",
       "      <td>-5.427745e-01</td>\n",
       "      <td>-7.708578e-01</td>\n",
       "      <td>-3.561515e-01</td>\n",
       "      <td>-5.113930e-01</td>\n",
       "      <td>10</td>\n",
       "      <td>866</td>\n",
       "      <td>0</td>\n",
       "    </tr>\n",
       "    <tr>\n",
       "      <th>816</th>\n",
       "      <td>3.265783e-01</td>\n",
       "      <td>-1.559941e-01</td>\n",
       "      <td>4.288068e-02</td>\n",
       "      <td>3.979130e-01</td>\n",
       "      <td>5.246159e-01</td>\n",
       "      <td>7.522476e-02</td>\n",
       "      <td>6.467418e-01</td>\n",
       "      <td>-6.038851e-02</td>\n",
       "      <td>3.754032e-01</td>\n",
       "      <td>5.889149e-01</td>\n",
       "      <td>10</td>\n",
       "      <td>867</td>\n",
       "      <td>0</td>\n",
       "    </tr>\n",
       "    <tr>\n",
       "      <th>817</th>\n",
       "      <td>-9.753017e-01</td>\n",
       "      <td>-1.248948e+00</td>\n",
       "      <td>-8.085369e-01</td>\n",
       "      <td>-6.872106e-01</td>\n",
       "      <td>-8.661562e-01</td>\n",
       "      <td>-1.131930e+00</td>\n",
       "      <td>-9.041961e-01</td>\n",
       "      <td>-1.292286e+00</td>\n",
       "      <td>-8.866747e-01</td>\n",
       "      <td>-7.583371e-01</td>\n",
       "      <td>10</td>\n",
       "      <td>868</td>\n",
       "      <td>0</td>\n",
       "    </tr>\n",
       "  </tbody>\n",
       "</table>\n",
       "<p>818 rows × 13 columns</p>\n",
       "</div>"
      ],
      "text/plain": [
       "                0             1             2             3             4  \\\n",
       "0   -1.886773e-08 -5.521628e-08 -3.555689e-08 -3.540658e-08 -3.113318e-08   \n",
       "1   -1.682443e-08 -3.684833e-08 -2.303030e-08 -2.422456e-08 -1.577111e-08   \n",
       "2   -2.880990e-08 -5.954436e-08 -4.045778e-08 -5.864715e-08 -5.192981e-08   \n",
       "3   -5.830474e-08 -8.270424e-08 -6.291569e-08 -8.291109e-08 -6.149386e-08   \n",
       "4   -7.040162e-08 -9.388915e-08 -7.216354e-08 -8.012906e-08 -8.196793e-08   \n",
       "..            ...           ...           ...           ...           ...   \n",
       "813  3.087686e+00  1.418103e+00  1.968570e+00  1.166096e+00  2.055196e+00   \n",
       "814  7.702017e-01 -7.522506e-01  4.382892e-01 -5.553329e-02  3.637590e-01   \n",
       "815 -9.512991e-01 -1.762932e+00 -1.067788e+00 -1.083850e+00 -2.630400e-01   \n",
       "816  3.265783e-01 -1.559941e-01  4.288068e-02  3.979130e-01  5.246159e-01   \n",
       "817 -9.753017e-01 -1.248948e+00 -8.085369e-01 -6.872106e-01 -8.661562e-01   \n",
       "\n",
       "                5             6             7             8             9  \\\n",
       "0   -4.963855e-08 -4.343823e-08 -5.617491e-08 -3.855793e-08 -5.542795e-08   \n",
       "1   -2.903560e-08 -2.805623e-08 -3.645483e-08 -2.459658e-08 -3.142153e-08   \n",
       "2   -5.145825e-08 -3.721264e-08 -4.882086e-08 -4.243840e-08 -6.180337e-08   \n",
       "3   -6.071738e-08 -4.949933e-08 -7.510833e-08 -6.516339e-08 -8.930824e-08   \n",
       "4   -8.893434e-08 -6.072423e-08 -8.232725e-08 -6.845320e-08 -9.646287e-08   \n",
       "..            ...           ...           ...           ...           ...   \n",
       "813  2.096983e+00  3.062217e+00  2.560739e+00  3.360461e+00  2.419349e+00   \n",
       "814  5.837681e-01  1.007415e+00  8.957375e-01  1.066373e+00  3.653450e-01   \n",
       "815 -5.990751e-01 -5.427745e-01 -7.708578e-01 -3.561515e-01 -5.113930e-01   \n",
       "816  7.522476e-02  6.467418e-01 -6.038851e-02  3.754032e-01  5.889149e-01   \n",
       "817 -1.131930e+00 -9.041961e-01 -1.292286e+00 -8.866747e-01 -7.583371e-01   \n",
       "\n",
       "     decoder_length  time_idx  series  \n",
       "0                10        51       0  \n",
       "1                10        52       0  \n",
       "2                10        53       0  \n",
       "3                10        54       0  \n",
       "4                10        55       0  \n",
       "..              ...       ...     ...  \n",
       "813              10       864       0  \n",
       "814              10       865       0  \n",
       "815              10       866       0  \n",
       "816              10       867       0  \n",
       "817              10       868       0  \n",
       "\n",
       "[818 rows x 13 columns]"
      ]
     },
     "metadata": {},
     "output_type": "display_data"
    }
   ],
   "source": [
    "import pandas as pd\n",
    "import numpy as np\n",
    "\n",
    "output_df = pd.DataFrame(something.output.prediction.detach().cpu().numpy()[:,:,0])\n",
    "output_df[\"decoder_length\"] = something.decoder_lengths.detach().cpu()\n",
    "output_df = output_df.join(something.index)\n",
    "display(output_df)\n",
    "\n",
    "# Why does pytorch forecasting not predict for the last 11 timeindices?\n",
    "# print(np.array(something.index[\"time_idx\"]))\n",
    "# print(something.x[\"decoder_time_idx\"].detach().cpu().numpy())\n",
    "# np.array_equal(np.array(something.index[\"time_idx\"]), something.x[\"decoder_time_idx\"].detach().cpu().numpy())\n",
    "\n",
    "# something.x is probably not worth exposing / returning\n",
    "# something.y is probably not worth exposing / returning\n",
    "\n",
    "# The dataframe shows for every time index in time_idx column the values for the next 10 time indices -> That means value in column 9 for time idx 55 corresponds to the value for time idx 65 (0 corresponds to 56)"
   ]
  },
  {
   "cell_type": "code",
   "execution_count": null,
   "metadata": {},
   "outputs": [],
   "source": [
    "import matplotlib.pyplot as plt\n",
    "\n",
    "plt.plot(something.x[\"encoder_target\"].detach().cpu().numpy())"
   ]
  },
  {
   "cell_type": "code",
   "execution_count": null,
   "metadata": {},
   "outputs": [],
   "source": [
    "for time_idx in range(0, 817, 60):\n",
    "    fig = model.plot_prediction(something.x, something.output, idx=time_idx, add_loss_to_title=True)"
   ]
  },
  {
   "cell_type": "code",
   "execution_count": null,
   "metadata": {},
   "outputs": [],
   "source": [
    "from matplotlib import pyplot as plt\n",
    "\n",
    "plt.plot(df_preds[3], label='predictions')\n",
    "plt.plot(test_df['Kaiserstr_outflow [l/s]'].values, label='actual')\n",
    "plt.legend()"
   ]
  },
  {
   "cell_type": "code",
   "execution_count": null,
   "metadata": {},
   "outputs": [],
   "source": [
    "print(nhits_wrapper.metrics_callback.metrics[\"train_loss\"])\n",
    "print(nhits_wrapper.metrics_callback.metrics[\"val_loss\"])\n",
    "\n",
    "nhits_wrapper.plot_training_result()"
   ]
  },
  {
   "cell_type": "code",
   "execution_count": null,
   "metadata": {},
   "outputs": [],
   "source": [
    "nhits_wrapper.save_trained_model(model_output_path + \"/\"  + 'test.pt')"
   ]
  },
  {
   "cell_type": "code",
   "execution_count": null,
   "metadata": {},
   "outputs": [],
   "source": [
    "model = NHiTSTrainingWrapper.load_trained_model(model_output_path + \"/\"  + 'NHiTS_Kaiserstr_model.pt')"
   ]
  },
  {
   "cell_type": "code",
   "execution_count": null,
   "metadata": {},
   "outputs": [],
   "source": [
    "print(model)"
   ]
  }
 ],
 "metadata": {
  "kernelspec": {
   "display_name": ".venv",
   "language": "python",
   "name": "python3"
  },
  "language_info": {
   "codemirror_mode": {
    "name": "ipython",
    "version": 3
   },
   "file_extension": ".py",
   "mimetype": "text/x-python",
   "name": "python",
   "nbconvert_exporter": "python",
   "pygments_lexer": "ipython3",
   "version": "3.10.10"
  }
 },
 "nbformat": 4,
 "nbformat_minor": 2
}
