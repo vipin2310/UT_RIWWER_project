{
 "cells": [
  {
   "cell_type": "code",
   "execution_count": 1,
   "metadata": {},
   "outputs": [
    {
     "name": "stderr",
     "output_type": "stream",
     "text": [
      "INFO:vierlinden.data.loader:Data loaded successfully from E:/Users/Vipin/Documents/BHT/CalgoLab/RIWWER/data\n",
      "INFO:vierlinden.data.loader:Datetime processed successfully.\n",
      "INFO:vierlinden.data.loader:Data loaded and processed successfully.\n"
     ]
    },
    {
     "data": {
      "text/html": [
       "<div>\n",
       "<style scoped>\n",
       "    .dataframe tbody tr th:only-of-type {\n",
       "        vertical-align: middle;\n",
       "    }\n",
       "\n",
       "    .dataframe tbody tr th {\n",
       "        vertical-align: top;\n",
       "    }\n",
       "\n",
       "    .dataframe thead th {\n",
       "        text-align: right;\n",
       "    }\n",
       "</style>\n",
       "<table border=\"1\" class=\"dataframe\">\n",
       "  <thead>\n",
       "    <tr style=\"text-align: right;\">\n",
       "      <th></th>\n",
       "      <th>Datetime</th>\n",
       "      <th>Herzog_Schieber_Position_pval</th>\n",
       "      <th>Herzog_Oberwasser_pval</th>\n",
       "      <th>Herzog_Unterwasser_pval</th>\n",
       "      <th>Herzog_Durchflußmenge_pval</th>\n",
       "      <th>Herzog_Berechnete_Durchflussmenge_pval</th>\n",
       "      <th>FLP_Hohenstand_Pumpensumpf_pval</th>\n",
       "      <th>FLP_Hohenstand_Pumpensumpf_pval_was_nan</th>\n",
       "      <th>FLP_P3_pval</th>\n",
       "      <th>FLP_P3_pval_was_nan</th>\n",
       "      <th>...</th>\n",
       "      <th>PV_16_Regenueberlauf_Menge_ival</th>\n",
       "      <th>PV_16_Regenueberlauf_Menge_ival_was_nan</th>\n",
       "      <th>PV_18_Fuellstand_RUEB_1_ival</th>\n",
       "      <th>PV_18_Fuellstand_RUEB_1_ival_was_nan</th>\n",
       "      <th>PV_19_Fuellstand_RUEB_2_ival</th>\n",
       "      <th>PV_19_Fuellstand_RUEB_2_ival_was_nan</th>\n",
       "      <th>PV_20_Fuellstand_RUEB_3_ival</th>\n",
       "      <th>PV_20_Fuellstand_RUEB_3_ival_was_nan</th>\n",
       "      <th>PV_25_Fuellstand_RRB_ival</th>\n",
       "      <th>PV_25_Fuellstand_RRB_ival_was_nan</th>\n",
       "    </tr>\n",
       "  </thead>\n",
       "  <tbody>\n",
       "    <tr>\n",
       "      <th>0</th>\n",
       "      <td>2021-01-01 00:00:00</td>\n",
       "      <td>100.0</td>\n",
       "      <td>8.0761</td>\n",
       "      <td>5.8152</td>\n",
       "      <td>7.6009</td>\n",
       "      <td>7.5300</td>\n",
       "      <td>84.263300</td>\n",
       "      <td>True</td>\n",
       "      <td>0.0</td>\n",
       "      <td>True</td>\n",
       "      <td>...</td>\n",
       "      <td>0.0</td>\n",
       "      <td>False</td>\n",
       "      <td>3.16</td>\n",
       "      <td>False</td>\n",
       "      <td>3.08</td>\n",
       "      <td>False</td>\n",
       "      <td>2.72</td>\n",
       "      <td>False</td>\n",
       "      <td>1.47</td>\n",
       "      <td>False</td>\n",
       "    </tr>\n",
       "    <tr>\n",
       "      <th>1</th>\n",
       "      <td>2021-01-01 01:00:00</td>\n",
       "      <td>100.0</td>\n",
       "      <td>8.0841</td>\n",
       "      <td>5.3923</td>\n",
       "      <td>7.1753</td>\n",
       "      <td>8.0380</td>\n",
       "      <td>84.263300</td>\n",
       "      <td>True</td>\n",
       "      <td>0.0</td>\n",
       "      <td>True</td>\n",
       "      <td>...</td>\n",
       "      <td>0.0</td>\n",
       "      <td>False</td>\n",
       "      <td>3.16</td>\n",
       "      <td>False</td>\n",
       "      <td>3.08</td>\n",
       "      <td>False</td>\n",
       "      <td>2.72</td>\n",
       "      <td>False</td>\n",
       "      <td>1.47</td>\n",
       "      <td>False</td>\n",
       "    </tr>\n",
       "    <tr>\n",
       "      <th>2</th>\n",
       "      <td>2021-01-01 02:00:00</td>\n",
       "      <td>100.0</td>\n",
       "      <td>7.9639</td>\n",
       "      <td>5.1718</td>\n",
       "      <td>6.4808</td>\n",
       "      <td>7.7368</td>\n",
       "      <td>84.263300</td>\n",
       "      <td>True</td>\n",
       "      <td>0.0</td>\n",
       "      <td>True</td>\n",
       "      <td>...</td>\n",
       "      <td>0.0</td>\n",
       "      <td>False</td>\n",
       "      <td>3.16</td>\n",
       "      <td>False</td>\n",
       "      <td>3.08</td>\n",
       "      <td>False</td>\n",
       "      <td>2.72</td>\n",
       "      <td>False</td>\n",
       "      <td>1.47</td>\n",
       "      <td>False</td>\n",
       "    </tr>\n",
       "    <tr>\n",
       "      <th>3</th>\n",
       "      <td>2021-01-01 03:00:00</td>\n",
       "      <td>100.0</td>\n",
       "      <td>7.6138</td>\n",
       "      <td>5.0000</td>\n",
       "      <td>5.2214</td>\n",
       "      <td>6.1928</td>\n",
       "      <td>84.263300</td>\n",
       "      <td>True</td>\n",
       "      <td>0.0</td>\n",
       "      <td>True</td>\n",
       "      <td>...</td>\n",
       "      <td>0.0</td>\n",
       "      <td>False</td>\n",
       "      <td>3.16</td>\n",
       "      <td>False</td>\n",
       "      <td>3.08</td>\n",
       "      <td>False</td>\n",
       "      <td>2.72</td>\n",
       "      <td>False</td>\n",
       "      <td>1.47</td>\n",
       "      <td>False</td>\n",
       "    </tr>\n",
       "    <tr>\n",
       "      <th>4</th>\n",
       "      <td>2021-01-01 04:00:00</td>\n",
       "      <td>100.0</td>\n",
       "      <td>6.9667</td>\n",
       "      <td>4.5230</td>\n",
       "      <td>3.5886</td>\n",
       "      <td>4.3735</td>\n",
       "      <td>84.263300</td>\n",
       "      <td>True</td>\n",
       "      <td>0.0</td>\n",
       "      <td>True</td>\n",
       "      <td>...</td>\n",
       "      <td>0.0</td>\n",
       "      <td>False</td>\n",
       "      <td>3.16</td>\n",
       "      <td>False</td>\n",
       "      <td>3.08</td>\n",
       "      <td>False</td>\n",
       "      <td>2.72</td>\n",
       "      <td>False</td>\n",
       "      <td>1.47</td>\n",
       "      <td>False</td>\n",
       "    </tr>\n",
       "    <tr>\n",
       "      <th>...</th>\n",
       "      <td>...</td>\n",
       "      <td>...</td>\n",
       "      <td>...</td>\n",
       "      <td>...</td>\n",
       "      <td>...</td>\n",
       "      <td>...</td>\n",
       "      <td>...</td>\n",
       "      <td>...</td>\n",
       "      <td>...</td>\n",
       "      <td>...</td>\n",
       "      <td>...</td>\n",
       "      <td>...</td>\n",
       "      <td>...</td>\n",
       "      <td>...</td>\n",
       "      <td>...</td>\n",
       "      <td>...</td>\n",
       "      <td>...</td>\n",
       "      <td>...</td>\n",
       "      <td>...</td>\n",
       "      <td>...</td>\n",
       "      <td>...</td>\n",
       "    </tr>\n",
       "    <tr>\n",
       "      <th>17515</th>\n",
       "      <td>2022-12-31 19:00:00</td>\n",
       "      <td>100.0</td>\n",
       "      <td>10.3835</td>\n",
       "      <td>6.6241</td>\n",
       "      <td>6.3373</td>\n",
       "      <td>13.6310</td>\n",
       "      <td>158.563695</td>\n",
       "      <td>True</td>\n",
       "      <td>0.0</td>\n",
       "      <td>True</td>\n",
       "      <td>...</td>\n",
       "      <td>0.0</td>\n",
       "      <td>False</td>\n",
       "      <td>1.29</td>\n",
       "      <td>False</td>\n",
       "      <td>1.42</td>\n",
       "      <td>False</td>\n",
       "      <td>0.76</td>\n",
       "      <td>False</td>\n",
       "      <td>1.29</td>\n",
       "      <td>False</td>\n",
       "    </tr>\n",
       "    <tr>\n",
       "      <th>17516</th>\n",
       "      <td>2022-12-31 20:00:00</td>\n",
       "      <td>100.0</td>\n",
       "      <td>9.1777</td>\n",
       "      <td>5.7780</td>\n",
       "      <td>3.9324</td>\n",
       "      <td>11.2529</td>\n",
       "      <td>158.246593</td>\n",
       "      <td>True</td>\n",
       "      <td>0.0</td>\n",
       "      <td>True</td>\n",
       "      <td>...</td>\n",
       "      <td>0.0</td>\n",
       "      <td>False</td>\n",
       "      <td>1.29</td>\n",
       "      <td>False</td>\n",
       "      <td>1.42</td>\n",
       "      <td>False</td>\n",
       "      <td>0.76</td>\n",
       "      <td>False</td>\n",
       "      <td>1.29</td>\n",
       "      <td>False</td>\n",
       "    </tr>\n",
       "    <tr>\n",
       "      <th>17517</th>\n",
       "      <td>2022-12-31 21:00:00</td>\n",
       "      <td>100.0</td>\n",
       "      <td>11.0793</td>\n",
       "      <td>7.1707</td>\n",
       "      <td>10.4482</td>\n",
       "      <td>14.7971</td>\n",
       "      <td>157.929492</td>\n",
       "      <td>True</td>\n",
       "      <td>0.0</td>\n",
       "      <td>True</td>\n",
       "      <td>...</td>\n",
       "      <td>0.0</td>\n",
       "      <td>False</td>\n",
       "      <td>1.29</td>\n",
       "      <td>False</td>\n",
       "      <td>1.42</td>\n",
       "      <td>False</td>\n",
       "      <td>0.76</td>\n",
       "      <td>False</td>\n",
       "      <td>1.29</td>\n",
       "      <td>False</td>\n",
       "    </tr>\n",
       "    <tr>\n",
       "      <th>17518</th>\n",
       "      <td>2022-12-31 22:00:00</td>\n",
       "      <td>100.0</td>\n",
       "      <td>8.3543</td>\n",
       "      <td>5.2011</td>\n",
       "      <td>2.3268</td>\n",
       "      <td>10.0161</td>\n",
       "      <td>157.612390</td>\n",
       "      <td>True</td>\n",
       "      <td>0.0</td>\n",
       "      <td>True</td>\n",
       "      <td>...</td>\n",
       "      <td>0.0</td>\n",
       "      <td>False</td>\n",
       "      <td>1.29</td>\n",
       "      <td>False</td>\n",
       "      <td>1.42</td>\n",
       "      <td>False</td>\n",
       "      <td>0.76</td>\n",
       "      <td>False</td>\n",
       "      <td>1.29</td>\n",
       "      <td>False</td>\n",
       "    </tr>\n",
       "    <tr>\n",
       "      <th>17519</th>\n",
       "      <td>2022-12-31 23:00:00</td>\n",
       "      <td>100.0</td>\n",
       "      <td>8.0000</td>\n",
       "      <td>5.0000</td>\n",
       "      <td>1.8167</td>\n",
       "      <td>9.7452</td>\n",
       "      <td>157.295289</td>\n",
       "      <td>True</td>\n",
       "      <td>0.0</td>\n",
       "      <td>True</td>\n",
       "      <td>...</td>\n",
       "      <td>0.0</td>\n",
       "      <td>False</td>\n",
       "      <td>1.29</td>\n",
       "      <td>False</td>\n",
       "      <td>1.42</td>\n",
       "      <td>False</td>\n",
       "      <td>0.76</td>\n",
       "      <td>False</td>\n",
       "      <td>1.29</td>\n",
       "      <td>False</td>\n",
       "    </tr>\n",
       "  </tbody>\n",
       "</table>\n",
       "<p>17520 rows × 58 columns</p>\n",
       "</div>"
      ],
      "text/plain": [
       "                 Datetime  Herzog_Schieber_Position_pval  \\\n",
       "0     2021-01-01 00:00:00                          100.0   \n",
       "1     2021-01-01 01:00:00                          100.0   \n",
       "2     2021-01-01 02:00:00                          100.0   \n",
       "3     2021-01-01 03:00:00                          100.0   \n",
       "4     2021-01-01 04:00:00                          100.0   \n",
       "...                   ...                            ...   \n",
       "17515 2022-12-31 19:00:00                          100.0   \n",
       "17516 2022-12-31 20:00:00                          100.0   \n",
       "17517 2022-12-31 21:00:00                          100.0   \n",
       "17518 2022-12-31 22:00:00                          100.0   \n",
       "17519 2022-12-31 23:00:00                          100.0   \n",
       "\n",
       "       Herzog_Oberwasser_pval  Herzog_Unterwasser_pval  \\\n",
       "0                      8.0761                   5.8152   \n",
       "1                      8.0841                   5.3923   \n",
       "2                      7.9639                   5.1718   \n",
       "3                      7.6138                   5.0000   \n",
       "4                      6.9667                   4.5230   \n",
       "...                       ...                      ...   \n",
       "17515                 10.3835                   6.6241   \n",
       "17516                  9.1777                   5.7780   \n",
       "17517                 11.0793                   7.1707   \n",
       "17518                  8.3543                   5.2011   \n",
       "17519                  8.0000                   5.0000   \n",
       "\n",
       "       Herzog_Durchflußmenge_pval  Herzog_Berechnete_Durchflussmenge_pval  \\\n",
       "0                          7.6009                                  7.5300   \n",
       "1                          7.1753                                  8.0380   \n",
       "2                          6.4808                                  7.7368   \n",
       "3                          5.2214                                  6.1928   \n",
       "4                          3.5886                                  4.3735   \n",
       "...                           ...                                     ...   \n",
       "17515                      6.3373                                 13.6310   \n",
       "17516                      3.9324                                 11.2529   \n",
       "17517                     10.4482                                 14.7971   \n",
       "17518                      2.3268                                 10.0161   \n",
       "17519                      1.8167                                  9.7452   \n",
       "\n",
       "       FLP_Hohenstand_Pumpensumpf_pval  \\\n",
       "0                            84.263300   \n",
       "1                            84.263300   \n",
       "2                            84.263300   \n",
       "3                            84.263300   \n",
       "4                            84.263300   \n",
       "...                                ...   \n",
       "17515                       158.563695   \n",
       "17516                       158.246593   \n",
       "17517                       157.929492   \n",
       "17518                       157.612390   \n",
       "17519                       157.295289   \n",
       "\n",
       "       FLP_Hohenstand_Pumpensumpf_pval_was_nan  FLP_P3_pval  \\\n",
       "0                                         True          0.0   \n",
       "1                                         True          0.0   \n",
       "2                                         True          0.0   \n",
       "3                                         True          0.0   \n",
       "4                                         True          0.0   \n",
       "...                                        ...          ...   \n",
       "17515                                     True          0.0   \n",
       "17516                                     True          0.0   \n",
       "17517                                     True          0.0   \n",
       "17518                                     True          0.0   \n",
       "17519                                     True          0.0   \n",
       "\n",
       "       FLP_P3_pval_was_nan  ...  PV_16_Regenueberlauf_Menge_ival  \\\n",
       "0                     True  ...                              0.0   \n",
       "1                     True  ...                              0.0   \n",
       "2                     True  ...                              0.0   \n",
       "3                     True  ...                              0.0   \n",
       "4                     True  ...                              0.0   \n",
       "...                    ...  ...                              ...   \n",
       "17515                 True  ...                              0.0   \n",
       "17516                 True  ...                              0.0   \n",
       "17517                 True  ...                              0.0   \n",
       "17518                 True  ...                              0.0   \n",
       "17519                 True  ...                              0.0   \n",
       "\n",
       "       PV_16_Regenueberlauf_Menge_ival_was_nan  PV_18_Fuellstand_RUEB_1_ival  \\\n",
       "0                                        False                          3.16   \n",
       "1                                        False                          3.16   \n",
       "2                                        False                          3.16   \n",
       "3                                        False                          3.16   \n",
       "4                                        False                          3.16   \n",
       "...                                        ...                           ...   \n",
       "17515                                    False                          1.29   \n",
       "17516                                    False                          1.29   \n",
       "17517                                    False                          1.29   \n",
       "17518                                    False                          1.29   \n",
       "17519                                    False                          1.29   \n",
       "\n",
       "       PV_18_Fuellstand_RUEB_1_ival_was_nan  PV_19_Fuellstand_RUEB_2_ival  \\\n",
       "0                                     False                          3.08   \n",
       "1                                     False                          3.08   \n",
       "2                                     False                          3.08   \n",
       "3                                     False                          3.08   \n",
       "4                                     False                          3.08   \n",
       "...                                     ...                           ...   \n",
       "17515                                 False                          1.42   \n",
       "17516                                 False                          1.42   \n",
       "17517                                 False                          1.42   \n",
       "17518                                 False                          1.42   \n",
       "17519                                 False                          1.42   \n",
       "\n",
       "       PV_19_Fuellstand_RUEB_2_ival_was_nan  PV_20_Fuellstand_RUEB_3_ival  \\\n",
       "0                                     False                          2.72   \n",
       "1                                     False                          2.72   \n",
       "2                                     False                          2.72   \n",
       "3                                     False                          2.72   \n",
       "4                                     False                          2.72   \n",
       "...                                     ...                           ...   \n",
       "17515                                 False                          0.76   \n",
       "17516                                 False                          0.76   \n",
       "17517                                 False                          0.76   \n",
       "17518                                 False                          0.76   \n",
       "17519                                 False                          0.76   \n",
       "\n",
       "       PV_20_Fuellstand_RUEB_3_ival_was_nan  PV_25_Fuellstand_RRB_ival  \\\n",
       "0                                     False                       1.47   \n",
       "1                                     False                       1.47   \n",
       "2                                     False                       1.47   \n",
       "3                                     False                       1.47   \n",
       "4                                     False                       1.47   \n",
       "...                                     ...                        ...   \n",
       "17515                                 False                       1.29   \n",
       "17516                                 False                       1.29   \n",
       "17517                                 False                       1.29   \n",
       "17518                                 False                       1.29   \n",
       "17519                                 False                       1.29   \n",
       "\n",
       "       PV_25_Fuellstand_RRB_ival_was_nan  \n",
       "0                                  False  \n",
       "1                                  False  \n",
       "2                                  False  \n",
       "3                                  False  \n",
       "4                                  False  \n",
       "...                                  ...  \n",
       "17515                              False  \n",
       "17516                              False  \n",
       "17517                              False  \n",
       "17518                              False  \n",
       "17519                              False  \n",
       "\n",
       "[17520 rows x 58 columns]"
      ]
     },
     "metadata": {},
     "output_type": "display_data"
    },
    {
     "data": {
      "text/html": [
       "<div>\n",
       "<style scoped>\n",
       "    .dataframe tbody tr th:only-of-type {\n",
       "        vertical-align: middle;\n",
       "    }\n",
       "\n",
       "    .dataframe tbody tr th {\n",
       "        vertical-align: top;\n",
       "    }\n",
       "\n",
       "    .dataframe thead th {\n",
       "        text-align: right;\n",
       "    }\n",
       "</style>\n",
       "<table border=\"1\" class=\"dataframe\">\n",
       "  <thead>\n",
       "    <tr style=\"text-align: right;\">\n",
       "      <th></th>\n",
       "      <th>Datetime</th>\n",
       "      <th>Herzog_Schieber_Position_pval</th>\n",
       "      <th>Herzog_Oberwasser_pval</th>\n",
       "      <th>Herzog_Unterwasser_pval</th>\n",
       "      <th>Herzog_Durchflußmenge_pval</th>\n",
       "      <th>Herzog_Berechnete_Durchflussmenge_pval</th>\n",
       "      <th>FLP_Hohenstand_Pumpensumpf_pval</th>\n",
       "      <th>FLP_Hohenstand_Pumpensumpf_pval_was_nan</th>\n",
       "      <th>FLP_P3_pval</th>\n",
       "      <th>FLP_P3_pval_was_nan</th>\n",
       "      <th>...</th>\n",
       "      <th>PV_16_Regenueberlauf_Menge_ival</th>\n",
       "      <th>PV_16_Regenueberlauf_Menge_ival_was_nan</th>\n",
       "      <th>PV_18_Fuellstand_RUEB_1_ival</th>\n",
       "      <th>PV_18_Fuellstand_RUEB_1_ival_was_nan</th>\n",
       "      <th>PV_19_Fuellstand_RUEB_2_ival</th>\n",
       "      <th>PV_19_Fuellstand_RUEB_2_ival_was_nan</th>\n",
       "      <th>PV_20_Fuellstand_RUEB_3_ival</th>\n",
       "      <th>PV_20_Fuellstand_RUEB_3_ival_was_nan</th>\n",
       "      <th>PV_25_Fuellstand_RRB_ival</th>\n",
       "      <th>PV_25_Fuellstand_RRB_ival_was_nan</th>\n",
       "    </tr>\n",
       "  </thead>\n",
       "  <tbody>\n",
       "    <tr>\n",
       "      <th>17520</th>\n",
       "      <td>2023-01-01 00:00:00</td>\n",
       "      <td>100.0</td>\n",
       "      <td>8.0000</td>\n",
       "      <td>5.0000</td>\n",
       "      <td>1.3774</td>\n",
       "      <td>9.6796</td>\n",
       "      <td>156.978187</td>\n",
       "      <td>True</td>\n",
       "      <td>0.0</td>\n",
       "      <td>True</td>\n",
       "      <td>...</td>\n",
       "      <td>0.0</td>\n",
       "      <td>False</td>\n",
       "      <td>1.29</td>\n",
       "      <td>False</td>\n",
       "      <td>1.42</td>\n",
       "      <td>False</td>\n",
       "      <td>0.76</td>\n",
       "      <td>False</td>\n",
       "      <td>1.29</td>\n",
       "      <td>False</td>\n",
       "    </tr>\n",
       "    <tr>\n",
       "      <th>17521</th>\n",
       "      <td>2023-01-01 01:00:00</td>\n",
       "      <td>100.0</td>\n",
       "      <td>11.1121</td>\n",
       "      <td>6.9926</td>\n",
       "      <td>12.3593</td>\n",
       "      <td>15.0284</td>\n",
       "      <td>156.661086</td>\n",
       "      <td>True</td>\n",
       "      <td>0.0</td>\n",
       "      <td>True</td>\n",
       "      <td>...</td>\n",
       "      <td>0.0</td>\n",
       "      <td>False</td>\n",
       "      <td>1.29</td>\n",
       "      <td>False</td>\n",
       "      <td>1.42</td>\n",
       "      <td>False</td>\n",
       "      <td>0.76</td>\n",
       "      <td>False</td>\n",
       "      <td>1.29</td>\n",
       "      <td>False</td>\n",
       "    </tr>\n",
       "    <tr>\n",
       "      <th>17522</th>\n",
       "      <td>2023-01-01 02:00:00</td>\n",
       "      <td>100.0</td>\n",
       "      <td>8.0518</td>\n",
       "      <td>4.9777</td>\n",
       "      <td>2.1956</td>\n",
       "      <td>9.4436</td>\n",
       "      <td>156.343984</td>\n",
       "      <td>True</td>\n",
       "      <td>0.0</td>\n",
       "      <td>True</td>\n",
       "      <td>...</td>\n",
       "      <td>0.0</td>\n",
       "      <td>False</td>\n",
       "      <td>1.29</td>\n",
       "      <td>False</td>\n",
       "      <td>1.42</td>\n",
       "      <td>False</td>\n",
       "      <td>0.76</td>\n",
       "      <td>False</td>\n",
       "      <td>1.29</td>\n",
       "      <td>False</td>\n",
       "    </tr>\n",
       "    <tr>\n",
       "      <th>17523</th>\n",
       "      <td>2023-01-01 03:00:00</td>\n",
       "      <td>100.0</td>\n",
       "      <td>7.8445</td>\n",
       "      <td>4.3878</td>\n",
       "      <td>2.0219</td>\n",
       "      <td>8.8488</td>\n",
       "      <td>156.026883</td>\n",
       "      <td>True</td>\n",
       "      <td>0.0</td>\n",
       "      <td>True</td>\n",
       "      <td>...</td>\n",
       "      <td>0.0</td>\n",
       "      <td>False</td>\n",
       "      <td>1.29</td>\n",
       "      <td>False</td>\n",
       "      <td>1.42</td>\n",
       "      <td>False</td>\n",
       "      <td>0.76</td>\n",
       "      <td>False</td>\n",
       "      <td>1.29</td>\n",
       "      <td>False</td>\n",
       "    </tr>\n",
       "    <tr>\n",
       "      <th>17524</th>\n",
       "      <td>2023-01-01 04:00:00</td>\n",
       "      <td>100.0</td>\n",
       "      <td>7.0749</td>\n",
       "      <td>4.1125</td>\n",
       "      <td>0.6367</td>\n",
       "      <td>8.0749</td>\n",
       "      <td>155.709782</td>\n",
       "      <td>True</td>\n",
       "      <td>0.0</td>\n",
       "      <td>True</td>\n",
       "      <td>...</td>\n",
       "      <td>0.0</td>\n",
       "      <td>False</td>\n",
       "      <td>1.29</td>\n",
       "      <td>False</td>\n",
       "      <td>1.42</td>\n",
       "      <td>False</td>\n",
       "      <td>0.76</td>\n",
       "      <td>False</td>\n",
       "      <td>1.29</td>\n",
       "      <td>False</td>\n",
       "    </tr>\n",
       "    <tr>\n",
       "      <th>...</th>\n",
       "      <td>...</td>\n",
       "      <td>...</td>\n",
       "      <td>...</td>\n",
       "      <td>...</td>\n",
       "      <td>...</td>\n",
       "      <td>...</td>\n",
       "      <td>...</td>\n",
       "      <td>...</td>\n",
       "      <td>...</td>\n",
       "      <td>...</td>\n",
       "      <td>...</td>\n",
       "      <td>...</td>\n",
       "      <td>...</td>\n",
       "      <td>...</td>\n",
       "      <td>...</td>\n",
       "      <td>...</td>\n",
       "      <td>...</td>\n",
       "      <td>...</td>\n",
       "      <td>...</td>\n",
       "      <td>...</td>\n",
       "      <td>...</td>\n",
       "    </tr>\n",
       "    <tr>\n",
       "      <th>26276</th>\n",
       "      <td>2023-12-31 20:00:00</td>\n",
       "      <td>100.0</td>\n",
       "      <td>9.6343</td>\n",
       "      <td>6.0298</td>\n",
       "      <td>0.0000</td>\n",
       "      <td>12.6065</td>\n",
       "      <td>91.554600</td>\n",
       "      <td>False</td>\n",
       "      <td>0.0</td>\n",
       "      <td>False</td>\n",
       "      <td>...</td>\n",
       "      <td>0.0</td>\n",
       "      <td>False</td>\n",
       "      <td>1.34</td>\n",
       "      <td>False</td>\n",
       "      <td>1.78</td>\n",
       "      <td>False</td>\n",
       "      <td>0.92</td>\n",
       "      <td>False</td>\n",
       "      <td>1.34</td>\n",
       "      <td>False</td>\n",
       "    </tr>\n",
       "    <tr>\n",
       "      <th>26277</th>\n",
       "      <td>2023-12-31 21:00:00</td>\n",
       "      <td>100.0</td>\n",
       "      <td>9.0974</td>\n",
       "      <td>5.9716</td>\n",
       "      <td>0.0000</td>\n",
       "      <td>10.9807</td>\n",
       "      <td>89.588000</td>\n",
       "      <td>False</td>\n",
       "      <td>0.0</td>\n",
       "      <td>False</td>\n",
       "      <td>...</td>\n",
       "      <td>0.0</td>\n",
       "      <td>False</td>\n",
       "      <td>1.35</td>\n",
       "      <td>False</td>\n",
       "      <td>1.78</td>\n",
       "      <td>False</td>\n",
       "      <td>0.92</td>\n",
       "      <td>False</td>\n",
       "      <td>1.34</td>\n",
       "      <td>False</td>\n",
       "    </tr>\n",
       "    <tr>\n",
       "      <th>26278</th>\n",
       "      <td>2023-12-31 22:00:00</td>\n",
       "      <td>100.0</td>\n",
       "      <td>8.7244</td>\n",
       "      <td>5.6111</td>\n",
       "      <td>0.0000</td>\n",
       "      <td>10.1204</td>\n",
       "      <td>90.629100</td>\n",
       "      <td>False</td>\n",
       "      <td>0.0</td>\n",
       "      <td>False</td>\n",
       "      <td>...</td>\n",
       "      <td>0.0</td>\n",
       "      <td>False</td>\n",
       "      <td>1.35</td>\n",
       "      <td>False</td>\n",
       "      <td>1.78</td>\n",
       "      <td>False</td>\n",
       "      <td>0.92</td>\n",
       "      <td>False</td>\n",
       "      <td>1.34</td>\n",
       "      <td>False</td>\n",
       "    </tr>\n",
       "    <tr>\n",
       "      <th>26279</th>\n",
       "      <td>2023-12-31 23:00:00</td>\n",
       "      <td>100.0</td>\n",
       "      <td>8.5567</td>\n",
       "      <td>5.2766</td>\n",
       "      <td>0.0000</td>\n",
       "      <td>10.0989</td>\n",
       "      <td>89.432300</td>\n",
       "      <td>False</td>\n",
       "      <td>0.0</td>\n",
       "      <td>False</td>\n",
       "      <td>...</td>\n",
       "      <td>0.0</td>\n",
       "      <td>False</td>\n",
       "      <td>1.36</td>\n",
       "      <td>False</td>\n",
       "      <td>1.78</td>\n",
       "      <td>False</td>\n",
       "      <td>0.92</td>\n",
       "      <td>False</td>\n",
       "      <td>1.34</td>\n",
       "      <td>False</td>\n",
       "    </tr>\n",
       "    <tr>\n",
       "      <th>26280</th>\n",
       "      <td>2024-01-01 00:00:00</td>\n",
       "      <td>100.0</td>\n",
       "      <td>8.8582</td>\n",
       "      <td>5.5192</td>\n",
       "      <td>0.0000</td>\n",
       "      <td>10.4605</td>\n",
       "      <td>92.923300</td>\n",
       "      <td>False</td>\n",
       "      <td>0.0</td>\n",
       "      <td>False</td>\n",
       "      <td>...</td>\n",
       "      <td>0.0</td>\n",
       "      <td>False</td>\n",
       "      <td>1.36</td>\n",
       "      <td>False</td>\n",
       "      <td>1.77</td>\n",
       "      <td>False</td>\n",
       "      <td>0.92</td>\n",
       "      <td>False</td>\n",
       "      <td>1.34</td>\n",
       "      <td>False</td>\n",
       "    </tr>\n",
       "  </tbody>\n",
       "</table>\n",
       "<p>8761 rows × 58 columns</p>\n",
       "</div>"
      ],
      "text/plain": [
       "                 Datetime  Herzog_Schieber_Position_pval  \\\n",
       "17520 2023-01-01 00:00:00                          100.0   \n",
       "17521 2023-01-01 01:00:00                          100.0   \n",
       "17522 2023-01-01 02:00:00                          100.0   \n",
       "17523 2023-01-01 03:00:00                          100.0   \n",
       "17524 2023-01-01 04:00:00                          100.0   \n",
       "...                   ...                            ...   \n",
       "26276 2023-12-31 20:00:00                          100.0   \n",
       "26277 2023-12-31 21:00:00                          100.0   \n",
       "26278 2023-12-31 22:00:00                          100.0   \n",
       "26279 2023-12-31 23:00:00                          100.0   \n",
       "26280 2024-01-01 00:00:00                          100.0   \n",
       "\n",
       "       Herzog_Oberwasser_pval  Herzog_Unterwasser_pval  \\\n",
       "17520                  8.0000                   5.0000   \n",
       "17521                 11.1121                   6.9926   \n",
       "17522                  8.0518                   4.9777   \n",
       "17523                  7.8445                   4.3878   \n",
       "17524                  7.0749                   4.1125   \n",
       "...                       ...                      ...   \n",
       "26276                  9.6343                   6.0298   \n",
       "26277                  9.0974                   5.9716   \n",
       "26278                  8.7244                   5.6111   \n",
       "26279                  8.5567                   5.2766   \n",
       "26280                  8.8582                   5.5192   \n",
       "\n",
       "       Herzog_Durchflußmenge_pval  Herzog_Berechnete_Durchflussmenge_pval  \\\n",
       "17520                      1.3774                                  9.6796   \n",
       "17521                     12.3593                                 15.0284   \n",
       "17522                      2.1956                                  9.4436   \n",
       "17523                      2.0219                                  8.8488   \n",
       "17524                      0.6367                                  8.0749   \n",
       "...                           ...                                     ...   \n",
       "26276                      0.0000                                 12.6065   \n",
       "26277                      0.0000                                 10.9807   \n",
       "26278                      0.0000                                 10.1204   \n",
       "26279                      0.0000                                 10.0989   \n",
       "26280                      0.0000                                 10.4605   \n",
       "\n",
       "       FLP_Hohenstand_Pumpensumpf_pval  \\\n",
       "17520                       156.978187   \n",
       "17521                       156.661086   \n",
       "17522                       156.343984   \n",
       "17523                       156.026883   \n",
       "17524                       155.709782   \n",
       "...                                ...   \n",
       "26276                        91.554600   \n",
       "26277                        89.588000   \n",
       "26278                        90.629100   \n",
       "26279                        89.432300   \n",
       "26280                        92.923300   \n",
       "\n",
       "       FLP_Hohenstand_Pumpensumpf_pval_was_nan  FLP_P3_pval  \\\n",
       "17520                                     True          0.0   \n",
       "17521                                     True          0.0   \n",
       "17522                                     True          0.0   \n",
       "17523                                     True          0.0   \n",
       "17524                                     True          0.0   \n",
       "...                                        ...          ...   \n",
       "26276                                    False          0.0   \n",
       "26277                                    False          0.0   \n",
       "26278                                    False          0.0   \n",
       "26279                                    False          0.0   \n",
       "26280                                    False          0.0   \n",
       "\n",
       "       FLP_P3_pval_was_nan  ...  PV_16_Regenueberlauf_Menge_ival  \\\n",
       "17520                 True  ...                              0.0   \n",
       "17521                 True  ...                              0.0   \n",
       "17522                 True  ...                              0.0   \n",
       "17523                 True  ...                              0.0   \n",
       "17524                 True  ...                              0.0   \n",
       "...                    ...  ...                              ...   \n",
       "26276                False  ...                              0.0   \n",
       "26277                False  ...                              0.0   \n",
       "26278                False  ...                              0.0   \n",
       "26279                False  ...                              0.0   \n",
       "26280                False  ...                              0.0   \n",
       "\n",
       "       PV_16_Regenueberlauf_Menge_ival_was_nan  PV_18_Fuellstand_RUEB_1_ival  \\\n",
       "17520                                    False                          1.29   \n",
       "17521                                    False                          1.29   \n",
       "17522                                    False                          1.29   \n",
       "17523                                    False                          1.29   \n",
       "17524                                    False                          1.29   \n",
       "...                                        ...                           ...   \n",
       "26276                                    False                          1.34   \n",
       "26277                                    False                          1.35   \n",
       "26278                                    False                          1.35   \n",
       "26279                                    False                          1.36   \n",
       "26280                                    False                          1.36   \n",
       "\n",
       "       PV_18_Fuellstand_RUEB_1_ival_was_nan  PV_19_Fuellstand_RUEB_2_ival  \\\n",
       "17520                                 False                          1.42   \n",
       "17521                                 False                          1.42   \n",
       "17522                                 False                          1.42   \n",
       "17523                                 False                          1.42   \n",
       "17524                                 False                          1.42   \n",
       "...                                     ...                           ...   \n",
       "26276                                 False                          1.78   \n",
       "26277                                 False                          1.78   \n",
       "26278                                 False                          1.78   \n",
       "26279                                 False                          1.78   \n",
       "26280                                 False                          1.77   \n",
       "\n",
       "       PV_19_Fuellstand_RUEB_2_ival_was_nan  PV_20_Fuellstand_RUEB_3_ival  \\\n",
       "17520                                 False                          0.76   \n",
       "17521                                 False                          0.76   \n",
       "17522                                 False                          0.76   \n",
       "17523                                 False                          0.76   \n",
       "17524                                 False                          0.76   \n",
       "...                                     ...                           ...   \n",
       "26276                                 False                          0.92   \n",
       "26277                                 False                          0.92   \n",
       "26278                                 False                          0.92   \n",
       "26279                                 False                          0.92   \n",
       "26280                                 False                          0.92   \n",
       "\n",
       "       PV_20_Fuellstand_RUEB_3_ival_was_nan  PV_25_Fuellstand_RRB_ival  \\\n",
       "17520                                 False                       1.29   \n",
       "17521                                 False                       1.29   \n",
       "17522                                 False                       1.29   \n",
       "17523                                 False                       1.29   \n",
       "17524                                 False                       1.29   \n",
       "...                                     ...                        ...   \n",
       "26276                                 False                       1.34   \n",
       "26277                                 False                       1.34   \n",
       "26278                                 False                       1.34   \n",
       "26279                                 False                       1.34   \n",
       "26280                                 False                       1.34   \n",
       "\n",
       "       PV_25_Fuellstand_RRB_ival_was_nan  \n",
       "17520                              False  \n",
       "17521                              False  \n",
       "17522                              False  \n",
       "17523                              False  \n",
       "17524                              False  \n",
       "...                                  ...  \n",
       "26276                              False  \n",
       "26277                              False  \n",
       "26278                              False  \n",
       "26279                              False  \n",
       "26280                              False  \n",
       "\n",
       "[8761 rows x 58 columns]"
      ]
     },
     "metadata": {},
     "output_type": "display_data"
    }
   ],
   "source": [
    "from vierlinden.data.loader import VierlindenDataProcessor\n",
    "from vierlinden.config import model_output_path\n",
    "from vierlinden.model.model import NHiTSTrainingWrapper\n",
    "from pytorch_forecasting.metrics import QuantileLoss, MAE, MASE, RMSE\n",
    "import torch\n",
    "\n",
    "target = 'PV_18_Fuellstand_RUEB_1_ival'\n",
    "\n",
    "seed = 42\n",
    "\n",
    "context_length = 50\n",
    "prediction_length = 10\n",
    "batch_size = 128\n",
    "num_workers = 8 #18\n",
    "\n",
    "dp = VierlindenDataProcessor()\n",
    "vierlinden_data = dp.load_processed_data()\n",
    "vierlinden_data = dp.prepare_for_target(vierlinden_data, target)\n",
    "\n",
    "train_data, test_data = dp.split_data(vierlinden_data, split_date='2023-01-01')\n",
    "display(train_data)\n",
    "display(test_data)"
   ]
  },
  {
   "cell_type": "code",
   "execution_count": 2,
   "metadata": {},
   "outputs": [
    {
     "name": "stdout",
     "output_type": "stream",
     "text": [
      "Cuda available: True\n",
      "Used GPU device: NVIDIA GeForce RTX 3070\n"
     ]
    }
   ],
   "source": [
    "cuda = torch.cuda.is_available()\n",
    "print(f'Cuda available: {cuda}')\n",
    "\n",
    "if cuda:\n",
    "    print(f'Used GPU device: {torch.cuda.get_device_name(0)}')\n",
    "\n",
    "    # Set the matrix multiplication precision to 'medium' for better performance uses tensor cores\n",
    "    torch.set_float32_matmul_precision('medium')"
   ]
  },
  {
   "cell_type": "code",
   "execution_count": 3,
   "metadata": {},
   "outputs": [
    {
     "name": "stderr",
     "output_type": "stream",
     "text": [
      "INFO:vierlinden.model.model:Training and validation data and data loaders created successfully.\n",
      "Seed set to 42\n"
     ]
    },
    {
     "data": {
      "application/vnd.jupyter.widget-view+json": {
       "model_id": "4dc75f3bad8347ba890cf4bdf315119c",
       "version_major": 2,
       "version_minor": 0
      },
      "text/plain": [
       "Finding best initial lr:   0%|          | 0/100 [00:00<?, ?it/s]"
      ]
     },
     "metadata": {},
     "output_type": "display_data"
    },
    {
     "name": "stderr",
     "output_type": "stream",
     "text": [
      "`Trainer.fit` stopped: `max_steps=100` reached.\n",
      "INFO:vierlinden.model.model:Start setting up trainer and network.\n",
      "Seed set to 42\n",
      "INFO:vierlinden.model.model:Setup succesful. Starting training procedure.\n"
     ]
    },
    {
     "name": "stdout",
     "output_type": "stream",
     "text": [
      "Optimal learning rate: 7.07945784384138e-05\n"
     ]
    },
    {
     "name": "stderr",
     "output_type": "stream",
     "text": [
      "\n",
      "  | Name            | Type           | Params\n",
      "---------------------------------------------------\n",
      "0 | loss            | MASE           | 0     \n",
      "1 | logging_metrics | ModuleList     | 0     \n",
      "2 | embeddings      | MultiEmbedding | 0     \n",
      "3 | model           | NHiTS          | 919 K \n",
      "---------------------------------------------------\n",
      "919 K     Trainable params\n",
      "0         Non-trainable params\n",
      "919 K     Total params\n",
      "3.679     Total estimated model params size (MB)\n"
     ]
    },
    {
     "data": {
      "application/vnd.jupyter.widget-view+json": {
       "model_id": "a148f5bce38c4fabb5222e21d345ce2b",
       "version_major": 2,
       "version_minor": 0
      },
      "text/plain": [
       "Sanity Checking: |          | 0/? [00:00<?, ?it/s]"
      ]
     },
     "metadata": {},
     "output_type": "display_data"
    },
    {
     "data": {
      "application/vnd.jupyter.widget-view+json": {
       "model_id": "00e143c495a34adc8f92d6b53f84cead",
       "version_major": 2,
       "version_minor": 0
      },
      "text/plain": [
       "Training: |          | 0/? [00:00<?, ?it/s]"
      ]
     },
     "metadata": {},
     "output_type": "display_data"
    },
    {
     "data": {
      "application/vnd.jupyter.widget-view+json": {
       "model_id": "401650d116b74d499f7d0aaf642b49b7",
       "version_major": 2,
       "version_minor": 0
      },
      "text/plain": [
       "Validation: |          | 0/? [00:00<?, ?it/s]"
      ]
     },
     "metadata": {},
     "output_type": "display_data"
    },
    {
     "name": "stderr",
     "output_type": "stream",
     "text": [
      "Metric val_loss improved. New best score: 4.015\n"
     ]
    },
    {
     "data": {
      "application/vnd.jupyter.widget-view+json": {
       "model_id": "da2e019ecccd481ba0724089f329de74",
       "version_major": 2,
       "version_minor": 0
      },
      "text/plain": [
       "Validation: |          | 0/? [00:00<?, ?it/s]"
      ]
     },
     "metadata": {},
     "output_type": "display_data"
    },
    {
     "name": "stderr",
     "output_type": "stream",
     "text": [
      "Metric val_loss improved by 0.235 >= min_delta = 0.0001. New best score: 3.780\n"
     ]
    },
    {
     "data": {
      "application/vnd.jupyter.widget-view+json": {
       "model_id": "0dcb9ba93b4d40b1aea3bc55c00f2c5e",
       "version_major": 2,
       "version_minor": 0
      },
      "text/plain": [
       "Validation: |          | 0/? [00:00<?, ?it/s]"
      ]
     },
     "metadata": {},
     "output_type": "display_data"
    },
    {
     "name": "stderr",
     "output_type": "stream",
     "text": [
      "Metric val_loss improved by 0.126 >= min_delta = 0.0001. New best score: 3.654\n"
     ]
    },
    {
     "data": {
      "application/vnd.jupyter.widget-view+json": {
       "model_id": "4e7d98ac9afd4d6db820438516159b16",
       "version_major": 2,
       "version_minor": 0
      },
      "text/plain": [
       "Validation: |          | 0/? [00:00<?, ?it/s]"
      ]
     },
     "metadata": {},
     "output_type": "display_data"
    },
    {
     "name": "stderr",
     "output_type": "stream",
     "text": [
      "Metric val_loss improved by 0.056 >= min_delta = 0.0001. New best score: 3.598\n",
      "Swapping scheduler `ReduceLROnPlateau` for `SWALR`\n"
     ]
    },
    {
     "data": {
      "application/vnd.jupyter.widget-view+json": {
       "model_id": "71363a8391444b29a0dcca9bb6e1dfc5",
       "version_major": 2,
       "version_minor": 0
      },
      "text/plain": [
       "Validation: |          | 0/? [00:00<?, ?it/s]"
      ]
     },
     "metadata": {},
     "output_type": "display_data"
    },
    {
     "name": "stderr",
     "output_type": "stream",
     "text": [
      "Metric val_loss improved by 0.016 >= min_delta = 0.0001. New best score: 3.582\n"
     ]
    },
    {
     "data": {
      "application/vnd.jupyter.widget-view+json": {
       "model_id": "c01fb63e99b04b259b0058f80cf5efd4",
       "version_major": 2,
       "version_minor": 0
      },
      "text/plain": [
       "Validation: |          | 0/? [00:00<?, ?it/s]"
      ]
     },
     "metadata": {},
     "output_type": "display_data"
    },
    {
     "name": "stderr",
     "output_type": "stream",
     "text": [
      "Metric val_loss improved by 0.024 >= min_delta = 0.0001. New best score: 3.558\n"
     ]
    },
    {
     "data": {
      "application/vnd.jupyter.widget-view+json": {
       "model_id": "4b47998051ad41f1afb621a670b0abf3",
       "version_major": 2,
       "version_minor": 0
      },
      "text/plain": [
       "Validation: |          | 0/? [00:00<?, ?it/s]"
      ]
     },
     "metadata": {},
     "output_type": "display_data"
    },
    {
     "name": "stderr",
     "output_type": "stream",
     "text": [
      "Metric val_loss improved by 0.013 >= min_delta = 0.0001. New best score: 3.546\n"
     ]
    },
    {
     "data": {
      "application/vnd.jupyter.widget-view+json": {
       "model_id": "bfaf2d75d5eb419d9278e9debb6a53ec",
       "version_major": 2,
       "version_minor": 0
      },
      "text/plain": [
       "Validation: |          | 0/? [00:00<?, ?it/s]"
      ]
     },
     "metadata": {},
     "output_type": "display_data"
    },
    {
     "name": "stderr",
     "output_type": "stream",
     "text": [
      "Metric val_loss improved by 0.010 >= min_delta = 0.0001. New best score: 3.536\n"
     ]
    },
    {
     "data": {
      "application/vnd.jupyter.widget-view+json": {
       "model_id": "5b2d1fa568754048bf92b5b5b6eab7c5",
       "version_major": 2,
       "version_minor": 0
      },
      "text/plain": [
       "Validation: |          | 0/? [00:00<?, ?it/s]"
      ]
     },
     "metadata": {},
     "output_type": "display_data"
    },
    {
     "name": "stderr",
     "output_type": "stream",
     "text": [
      "Metric val_loss improved by 0.003 >= min_delta = 0.0001. New best score: 3.533\n"
     ]
    },
    {
     "data": {
      "application/vnd.jupyter.widget-view+json": {
       "model_id": "e407e4aae3c746a99913b186218c1f77",
       "version_major": 2,
       "version_minor": 0
      },
      "text/plain": [
       "Validation: |          | 0/? [00:00<?, ?it/s]"
      ]
     },
     "metadata": {},
     "output_type": "display_data"
    },
    {
     "name": "stderr",
     "output_type": "stream",
     "text": [
      "Metric val_loss improved by 0.007 >= min_delta = 0.0001. New best score: 3.525\n"
     ]
    },
    {
     "data": {
      "application/vnd.jupyter.widget-view+json": {
       "model_id": "4715e9862cf948379d86d15658d89b13",
       "version_major": 2,
       "version_minor": 0
      },
      "text/plain": [
       "Validation: |          | 0/? [00:00<?, ?it/s]"
      ]
     },
     "metadata": {},
     "output_type": "display_data"
    },
    {
     "name": "stderr",
     "output_type": "stream",
     "text": [
      "Metric val_loss improved by 0.013 >= min_delta = 0.0001. New best score: 3.512\n"
     ]
    },
    {
     "data": {
      "application/vnd.jupyter.widget-view+json": {
       "model_id": "31f81bc108c149e28a4bfac6abed9d7e",
       "version_major": 2,
       "version_minor": 0
      },
      "text/plain": [
       "Validation: |          | 0/? [00:00<?, ?it/s]"
      ]
     },
     "metadata": {},
     "output_type": "display_data"
    },
    {
     "data": {
      "application/vnd.jupyter.widget-view+json": {
       "model_id": "b9eda7ccff4c4367bbccfe6f8c7eaaf8",
       "version_major": 2,
       "version_minor": 0
      },
      "text/plain": [
       "Validation: |          | 0/? [00:00<?, ?it/s]"
      ]
     },
     "metadata": {},
     "output_type": "display_data"
    },
    {
     "name": "stderr",
     "output_type": "stream",
     "text": [
      "Metric val_loss improved by 0.003 >= min_delta = 0.0001. New best score: 3.509\n"
     ]
    },
    {
     "data": {
      "application/vnd.jupyter.widget-view+json": {
       "model_id": "cb0d79257edb4b8f987d6fffd66c4689",
       "version_major": 2,
       "version_minor": 0
      },
      "text/plain": [
       "Validation: |          | 0/? [00:00<?, ?it/s]"
      ]
     },
     "metadata": {},
     "output_type": "display_data"
    },
    {
     "name": "stderr",
     "output_type": "stream",
     "text": [
      "Metric val_loss improved by 0.012 >= min_delta = 0.0001. New best score: 3.498\n"
     ]
    },
    {
     "data": {
      "application/vnd.jupyter.widget-view+json": {
       "model_id": "9ac221d066704bf49b80cd78c3375b82",
       "version_major": 2,
       "version_minor": 0
      },
      "text/plain": [
       "Validation: |          | 0/? [00:00<?, ?it/s]"
      ]
     },
     "metadata": {},
     "output_type": "display_data"
    },
    {
     "data": {
      "application/vnd.jupyter.widget-view+json": {
       "model_id": "10a6ff516ec64293981e11da7de8d65f",
       "version_major": 2,
       "version_minor": 0
      },
      "text/plain": [
       "Validation: |          | 0/? [00:00<?, ?it/s]"
      ]
     },
     "metadata": {},
     "output_type": "display_data"
    },
    {
     "name": "stderr",
     "output_type": "stream",
     "text": [
      "Metric val_loss improved by 0.002 >= min_delta = 0.0001. New best score: 3.495\n"
     ]
    },
    {
     "data": {
      "application/vnd.jupyter.widget-view+json": {
       "model_id": "d70d0f5dd0f74b7bbb0a1ff2094172b6",
       "version_major": 2,
       "version_minor": 0
      },
      "text/plain": [
       "Validation: |          | 0/? [00:00<?, ?it/s]"
      ]
     },
     "metadata": {},
     "output_type": "display_data"
    },
    {
     "data": {
      "application/vnd.jupyter.widget-view+json": {
       "model_id": "d6a19185edf44b81856bd9228a6d24f9",
       "version_major": 2,
       "version_minor": 0
      },
      "text/plain": [
       "Validation: |          | 0/? [00:00<?, ?it/s]"
      ]
     },
     "metadata": {},
     "output_type": "display_data"
    },
    {
     "name": "stderr",
     "output_type": "stream",
     "text": [
      "Metric val_loss improved by 0.002 >= min_delta = 0.0001. New best score: 3.494\n"
     ]
    },
    {
     "data": {
      "application/vnd.jupyter.widget-view+json": {
       "model_id": "e455e20d850747aa910d6bb9b9457cd3",
       "version_major": 2,
       "version_minor": 0
      },
      "text/plain": [
       "Validation: |          | 0/? [00:00<?, ?it/s]"
      ]
     },
     "metadata": {},
     "output_type": "display_data"
    },
    {
     "name": "stderr",
     "output_type": "stream",
     "text": [
      "Metric val_loss improved by 0.009 >= min_delta = 0.0001. New best score: 3.485\n"
     ]
    },
    {
     "data": {
      "application/vnd.jupyter.widget-view+json": {
       "model_id": "6b49f1c3d2114aa787f1f52f6a79626a",
       "version_major": 2,
       "version_minor": 0
      },
      "text/plain": [
       "Validation: |          | 0/? [00:00<?, ?it/s]"
      ]
     },
     "metadata": {},
     "output_type": "display_data"
    },
    {
     "data": {
      "application/vnd.jupyter.widget-view+json": {
       "model_id": "62e6223313a14394be486e98e1dd4496",
       "version_major": 2,
       "version_minor": 0
      },
      "text/plain": [
       "Validation: |          | 0/? [00:00<?, ?it/s]"
      ]
     },
     "metadata": {},
     "output_type": "display_data"
    },
    {
     "data": {
      "application/vnd.jupyter.widget-view+json": {
       "model_id": "f77be57c43e54195968352dfd259fc55",
       "version_major": 2,
       "version_minor": 0
      },
      "text/plain": [
       "Validation: |          | 0/? [00:00<?, ?it/s]"
      ]
     },
     "metadata": {},
     "output_type": "display_data"
    },
    {
     "name": "stderr",
     "output_type": "stream",
     "text": [
      "Metric val_loss improved by 0.008 >= min_delta = 0.0001. New best score: 3.477\n"
     ]
    },
    {
     "data": {
      "application/vnd.jupyter.widget-view+json": {
       "model_id": "71a81d4fc9d84ff0a86c1b14407d976f",
       "version_major": 2,
       "version_minor": 0
      },
      "text/plain": [
       "Validation: |          | 0/? [00:00<?, ?it/s]"
      ]
     },
     "metadata": {},
     "output_type": "display_data"
    },
    {
     "name": "stderr",
     "output_type": "stream",
     "text": [
      "Metric val_loss improved by 0.004 >= min_delta = 0.0001. New best score: 3.473\n"
     ]
    },
    {
     "data": {
      "application/vnd.jupyter.widget-view+json": {
       "model_id": "44abc03d9b6f4391afb37f090cf4d0d0",
       "version_major": 2,
       "version_minor": 0
      },
      "text/plain": [
       "Validation: |          | 0/? [00:00<?, ?it/s]"
      ]
     },
     "metadata": {},
     "output_type": "display_data"
    },
    {
     "name": "stderr",
     "output_type": "stream",
     "text": [
      "Metric val_loss improved by 0.002 >= min_delta = 0.0001. New best score: 3.471\n"
     ]
    },
    {
     "data": {
      "application/vnd.jupyter.widget-view+json": {
       "model_id": "8cbfd76f90994e3b8c245002f2330e9a",
       "version_major": 2,
       "version_minor": 0
      },
      "text/plain": [
       "Validation: |          | 0/? [00:00<?, ?it/s]"
      ]
     },
     "metadata": {},
     "output_type": "display_data"
    },
    {
     "name": "stderr",
     "output_type": "stream",
     "text": [
      "Metric val_loss improved by 0.004 >= min_delta = 0.0001. New best score: 3.467\n"
     ]
    },
    {
     "data": {
      "application/vnd.jupyter.widget-view+json": {
       "model_id": "e43155254ce64218b0fc018f147c58b7",
       "version_major": 2,
       "version_minor": 0
      },
      "text/plain": [
       "Validation: |          | 0/? [00:00<?, ?it/s]"
      ]
     },
     "metadata": {},
     "output_type": "display_data"
    },
    {
     "name": "stderr",
     "output_type": "stream",
     "text": [
      "Metric val_loss improved by 0.001 >= min_delta = 0.0001. New best score: 3.467\n"
     ]
    },
    {
     "data": {
      "application/vnd.jupyter.widget-view+json": {
       "model_id": "949cd5db73ad4e1bba6e474a1f22dc24",
       "version_major": 2,
       "version_minor": 0
      },
      "text/plain": [
       "Validation: |          | 0/? [00:00<?, ?it/s]"
      ]
     },
     "metadata": {},
     "output_type": "display_data"
    },
    {
     "data": {
      "application/vnd.jupyter.widget-view+json": {
       "model_id": "5e7b55e070634fd8bceeec53f7f641bf",
       "version_major": 2,
       "version_minor": 0
      },
      "text/plain": [
       "Validation: |          | 0/? [00:00<?, ?it/s]"
      ]
     },
     "metadata": {},
     "output_type": "display_data"
    },
    {
     "name": "stderr",
     "output_type": "stream",
     "text": [
      "Metric val_loss improved by 0.002 >= min_delta = 0.0001. New best score: 3.464\n"
     ]
    },
    {
     "data": {
      "application/vnd.jupyter.widget-view+json": {
       "model_id": "b1dab589c9ca485a9584bfb0a1a582a7",
       "version_major": 2,
       "version_minor": 0
      },
      "text/plain": [
       "Validation: |          | 0/? [00:00<?, ?it/s]"
      ]
     },
     "metadata": {},
     "output_type": "display_data"
    },
    {
     "data": {
      "application/vnd.jupyter.widget-view+json": {
       "model_id": "b46aec17c81d430484c8bd973aace407",
       "version_major": 2,
       "version_minor": 0
      },
      "text/plain": [
       "Validation: |          | 0/? [00:00<?, ?it/s]"
      ]
     },
     "metadata": {},
     "output_type": "display_data"
    },
    {
     "name": "stderr",
     "output_type": "stream",
     "text": [
      "Metric val_loss improved by 0.007 >= min_delta = 0.0001. New best score: 3.457\n"
     ]
    },
    {
     "data": {
      "application/vnd.jupyter.widget-view+json": {
       "model_id": "453e64e439cc44e5885fccfc11cd7f18",
       "version_major": 2,
       "version_minor": 0
      },
      "text/plain": [
       "Validation: |          | 0/? [00:00<?, ?it/s]"
      ]
     },
     "metadata": {},
     "output_type": "display_data"
    },
    {
     "data": {
      "application/vnd.jupyter.widget-view+json": {
       "model_id": "d7d0a92985764276ad13096d04053114",
       "version_major": 2,
       "version_minor": 0
      },
      "text/plain": [
       "Validation: |          | 0/? [00:00<?, ?it/s]"
      ]
     },
     "metadata": {},
     "output_type": "display_data"
    },
    {
     "data": {
      "application/vnd.jupyter.widget-view+json": {
       "model_id": "7d0b53130e444739956045fca42de46a",
       "version_major": 2,
       "version_minor": 0
      },
      "text/plain": [
       "Validation: |          | 0/? [00:00<?, ?it/s]"
      ]
     },
     "metadata": {},
     "output_type": "display_data"
    },
    {
     "name": "stderr",
     "output_type": "stream",
     "text": [
      "Metric val_loss improved by 0.003 >= min_delta = 0.0001. New best score: 3.454\n"
     ]
    },
    {
     "data": {
      "application/vnd.jupyter.widget-view+json": {
       "model_id": "6dc3af12f8784c4cbd687c560690b06c",
       "version_major": 2,
       "version_minor": 0
      },
      "text/plain": [
       "Validation: |          | 0/? [00:00<?, ?it/s]"
      ]
     },
     "metadata": {},
     "output_type": "display_data"
    },
    {
     "data": {
      "application/vnd.jupyter.widget-view+json": {
       "model_id": "308dc019352d4d1eb4308315c1f1ea2e",
       "version_major": 2,
       "version_minor": 0
      },
      "text/plain": [
       "Validation: |          | 0/? [00:00<?, ?it/s]"
      ]
     },
     "metadata": {},
     "output_type": "display_data"
    },
    {
     "name": "stderr",
     "output_type": "stream",
     "text": [
      "Metric val_loss improved by 0.002 >= min_delta = 0.0001. New best score: 3.452\n"
     ]
    },
    {
     "data": {
      "application/vnd.jupyter.widget-view+json": {
       "model_id": "a6c19f594d744c349b15b85ac4ca3fc7",
       "version_major": 2,
       "version_minor": 0
      },
      "text/plain": [
       "Validation: |          | 0/? [00:00<?, ?it/s]"
      ]
     },
     "metadata": {},
     "output_type": "display_data"
    },
    {
     "name": "stderr",
     "output_type": "stream",
     "text": [
      "Metric val_loss improved by 0.006 >= min_delta = 0.0001. New best score: 3.445\n"
     ]
    },
    {
     "data": {
      "application/vnd.jupyter.widget-view+json": {
       "model_id": "a97bcba731d1447280cfc1401ed47b06",
       "version_major": 2,
       "version_minor": 0
      },
      "text/plain": [
       "Validation: |          | 0/? [00:00<?, ?it/s]"
      ]
     },
     "metadata": {},
     "output_type": "display_data"
    },
    {
     "data": {
      "application/vnd.jupyter.widget-view+json": {
       "model_id": "a20d2607df4d4232b0ea8852f44e032f",
       "version_major": 2,
       "version_minor": 0
      },
      "text/plain": [
       "Validation: |          | 0/? [00:00<?, ?it/s]"
      ]
     },
     "metadata": {},
     "output_type": "display_data"
    },
    {
     "data": {
      "application/vnd.jupyter.widget-view+json": {
       "model_id": "9fc31f44fdc142bab3d4739b9647e11d",
       "version_major": 2,
       "version_minor": 0
      },
      "text/plain": [
       "Validation: |          | 0/? [00:00<?, ?it/s]"
      ]
     },
     "metadata": {},
     "output_type": "display_data"
    },
    {
     "data": {
      "application/vnd.jupyter.widget-view+json": {
       "model_id": "c32d59cd9f9142be8c02845f414e2b2d",
       "version_major": 2,
       "version_minor": 0
      },
      "text/plain": [
       "Validation: |          | 0/? [00:00<?, ?it/s]"
      ]
     },
     "metadata": {},
     "output_type": "display_data"
    },
    {
     "name": "stderr",
     "output_type": "stream",
     "text": [
      "Metric val_loss improved by 0.001 >= min_delta = 0.0001. New best score: 3.444\n"
     ]
    },
    {
     "data": {
      "application/vnd.jupyter.widget-view+json": {
       "model_id": "23e2e26f27474c97a8956464afbcf287",
       "version_major": 2,
       "version_minor": 0
      },
      "text/plain": [
       "Validation: |          | 0/? [00:00<?, ?it/s]"
      ]
     },
     "metadata": {},
     "output_type": "display_data"
    },
    {
     "name": "stderr",
     "output_type": "stream",
     "text": [
      "Metric val_loss improved by 0.001 >= min_delta = 0.0001. New best score: 3.444\n"
     ]
    },
    {
     "data": {
      "application/vnd.jupyter.widget-view+json": {
       "model_id": "c81c9b509d764936b8a37a2643d21290",
       "version_major": 2,
       "version_minor": 0
      },
      "text/plain": [
       "Validation: |          | 0/? [00:00<?, ?it/s]"
      ]
     },
     "metadata": {},
     "output_type": "display_data"
    },
    {
     "name": "stderr",
     "output_type": "stream",
     "text": [
      "Metric val_loss improved by 0.002 >= min_delta = 0.0001. New best score: 3.442\n"
     ]
    },
    {
     "data": {
      "application/vnd.jupyter.widget-view+json": {
       "model_id": "da32349b1cb14f1aaa150c38e41e8f5f",
       "version_major": 2,
       "version_minor": 0
      },
      "text/plain": [
       "Validation: |          | 0/? [00:00<?, ?it/s]"
      ]
     },
     "metadata": {},
     "output_type": "display_data"
    },
    {
     "data": {
      "application/vnd.jupyter.widget-view+json": {
       "model_id": "d90496c45b9b48e2a5c41ee0c4f6540e",
       "version_major": 2,
       "version_minor": 0
      },
      "text/plain": [
       "Validation: |          | 0/? [00:00<?, ?it/s]"
      ]
     },
     "metadata": {},
     "output_type": "display_data"
    },
    {
     "name": "stderr",
     "output_type": "stream",
     "text": [
      "Metric val_loss improved by 0.002 >= min_delta = 0.0001. New best score: 3.440\n"
     ]
    },
    {
     "data": {
      "application/vnd.jupyter.widget-view+json": {
       "model_id": "e68d087444e84a0d950431ddd9f0b18b",
       "version_major": 2,
       "version_minor": 0
      },
      "text/plain": [
       "Validation: |          | 0/? [00:00<?, ?it/s]"
      ]
     },
     "metadata": {},
     "output_type": "display_data"
    },
    {
     "name": "stderr",
     "output_type": "stream",
     "text": [
      "Metric val_loss improved by 0.005 >= min_delta = 0.0001. New best score: 3.435\n"
     ]
    },
    {
     "data": {
      "application/vnd.jupyter.widget-view+json": {
       "model_id": "21132f43e54447149d11a4ea4d4a13a5",
       "version_major": 2,
       "version_minor": 0
      },
      "text/plain": [
       "Validation: |          | 0/? [00:00<?, ?it/s]"
      ]
     },
     "metadata": {},
     "output_type": "display_data"
    },
    {
     "data": {
      "application/vnd.jupyter.widget-view+json": {
       "model_id": "958e6af6fd0c467a97f5d1208176c12f",
       "version_major": 2,
       "version_minor": 0
      },
      "text/plain": [
       "Validation: |          | 0/? [00:00<?, ?it/s]"
      ]
     },
     "metadata": {},
     "output_type": "display_data"
    },
    {
     "data": {
      "application/vnd.jupyter.widget-view+json": {
       "model_id": "4c671ad1a40548bc9d6312f62d9753fa",
       "version_major": 2,
       "version_minor": 0
      },
      "text/plain": [
       "Validation: |          | 0/? [00:00<?, ?it/s]"
      ]
     },
     "metadata": {},
     "output_type": "display_data"
    },
    {
     "name": "stderr",
     "output_type": "stream",
     "text": [
      "Metric val_loss improved by 0.001 >= min_delta = 0.0001. New best score: 3.433\n"
     ]
    },
    {
     "data": {
      "application/vnd.jupyter.widget-view+json": {
       "model_id": "2cb5194bb18a497cbd3b44a0dce5010a",
       "version_major": 2,
       "version_minor": 0
      },
      "text/plain": [
       "Validation: |          | 0/? [00:00<?, ?it/s]"
      ]
     },
     "metadata": {},
     "output_type": "display_data"
    },
    {
     "name": "stderr",
     "output_type": "stream",
     "text": [
      "Metric val_loss improved by 0.002 >= min_delta = 0.0001. New best score: 3.431\n"
     ]
    },
    {
     "data": {
      "application/vnd.jupyter.widget-view+json": {
       "model_id": "f124d37c420644f18c8b4f79260af470",
       "version_major": 2,
       "version_minor": 0
      },
      "text/plain": [
       "Validation: |          | 0/? [00:00<?, ?it/s]"
      ]
     },
     "metadata": {},
     "output_type": "display_data"
    },
    {
     "name": "stderr",
     "output_type": "stream",
     "text": [
      "Metric val_loss improved by 0.001 >= min_delta = 0.0001. New best score: 3.431\n"
     ]
    },
    {
     "data": {
      "application/vnd.jupyter.widget-view+json": {
       "model_id": "0da809195a3242829162c7b41c1088ee",
       "version_major": 2,
       "version_minor": 0
      },
      "text/plain": [
       "Validation: |          | 0/? [00:00<?, ?it/s]"
      ]
     },
     "metadata": {},
     "output_type": "display_data"
    },
    {
     "name": "stderr",
     "output_type": "stream",
     "text": [
      "Metric val_loss improved by 0.002 >= min_delta = 0.0001. New best score: 3.429\n"
     ]
    },
    {
     "data": {
      "application/vnd.jupyter.widget-view+json": {
       "model_id": "3cfab5d7642e43d398514ee2b8a6fba1",
       "version_major": 2,
       "version_minor": 0
      },
      "text/plain": [
       "Validation: |          | 0/? [00:00<?, ?it/s]"
      ]
     },
     "metadata": {},
     "output_type": "display_data"
    },
    {
     "data": {
      "application/vnd.jupyter.widget-view+json": {
       "model_id": "dd66efea3b7745d68005cc3a5a87ea76",
       "version_major": 2,
       "version_minor": 0
      },
      "text/plain": [
       "Validation: |          | 0/? [00:00<?, ?it/s]"
      ]
     },
     "metadata": {},
     "output_type": "display_data"
    },
    {
     "data": {
      "application/vnd.jupyter.widget-view+json": {
       "model_id": "4cf80cde0ef84462bd84a9f194b6a520",
       "version_major": 2,
       "version_minor": 0
      },
      "text/plain": [
       "Validation: |          | 0/? [00:00<?, ?it/s]"
      ]
     },
     "metadata": {},
     "output_type": "display_data"
    },
    {
     "name": "stderr",
     "output_type": "stream",
     "text": [
      "Metric val_loss improved by 0.001 >= min_delta = 0.0001. New best score: 3.428\n"
     ]
    },
    {
     "data": {
      "application/vnd.jupyter.widget-view+json": {
       "model_id": "3cd9bdd6a830425ab7ac2fdc369229f9",
       "version_major": 2,
       "version_minor": 0
      },
      "text/plain": [
       "Validation: |          | 0/? [00:00<?, ?it/s]"
      ]
     },
     "metadata": {},
     "output_type": "display_data"
    },
    {
     "data": {
      "application/vnd.jupyter.widget-view+json": {
       "model_id": "0157e86299614f56a0f58c60d0c327d2",
       "version_major": 2,
       "version_minor": 0
      },
      "text/plain": [
       "Validation: |          | 0/? [00:00<?, ?it/s]"
      ]
     },
     "metadata": {},
     "output_type": "display_data"
    },
    {
     "name": "stderr",
     "output_type": "stream",
     "text": [
      "Metric val_loss improved by 0.003 >= min_delta = 0.0001. New best score: 3.425\n"
     ]
    },
    {
     "data": {
      "application/vnd.jupyter.widget-view+json": {
       "model_id": "7dfda40277e647f783ccb44291049b63",
       "version_major": 2,
       "version_minor": 0
      },
      "text/plain": [
       "Validation: |          | 0/? [00:00<?, ?it/s]"
      ]
     },
     "metadata": {},
     "output_type": "display_data"
    },
    {
     "data": {
      "application/vnd.jupyter.widget-view+json": {
       "model_id": "b9d5e9822f6145bdaf52a4f6731f79f8",
       "version_major": 2,
       "version_minor": 0
      },
      "text/plain": [
       "Validation: |          | 0/? [00:00<?, ?it/s]"
      ]
     },
     "metadata": {},
     "output_type": "display_data"
    },
    {
     "name": "stderr",
     "output_type": "stream",
     "text": [
      "Metric val_loss improved by 0.000 >= min_delta = 0.0001. New best score: 3.425\n"
     ]
    },
    {
     "data": {
      "application/vnd.jupyter.widget-view+json": {
       "model_id": "a9ccb20b2e0a4529ba0615645dbac679",
       "version_major": 2,
       "version_minor": 0
      },
      "text/plain": [
       "Validation: |          | 0/? [00:00<?, ?it/s]"
      ]
     },
     "metadata": {},
     "output_type": "display_data"
    },
    {
     "data": {
      "application/vnd.jupyter.widget-view+json": {
       "model_id": "2da99695a2be49829ec70a20094f5aab",
       "version_major": 2,
       "version_minor": 0
      },
      "text/plain": [
       "Validation: |          | 0/? [00:00<?, ?it/s]"
      ]
     },
     "metadata": {},
     "output_type": "display_data"
    },
    {
     "name": "stderr",
     "output_type": "stream",
     "text": [
      "Metric val_loss improved by 0.000 >= min_delta = 0.0001. New best score: 3.425\n"
     ]
    },
    {
     "data": {
      "application/vnd.jupyter.widget-view+json": {
       "model_id": "8ecf4552d7d24a31a2ad75f5a0649e63",
       "version_major": 2,
       "version_minor": 0
      },
      "text/plain": [
       "Validation: |          | 0/? [00:00<?, ?it/s]"
      ]
     },
     "metadata": {},
     "output_type": "display_data"
    },
    {
     "name": "stderr",
     "output_type": "stream",
     "text": [
      "Metric val_loss improved by 0.002 >= min_delta = 0.0001. New best score: 3.423\n"
     ]
    },
    {
     "data": {
      "application/vnd.jupyter.widget-view+json": {
       "model_id": "f8dac825e7d3461e8cc361bfac1fcac5",
       "version_major": 2,
       "version_minor": 0
      },
      "text/plain": [
       "Validation: |          | 0/? [00:00<?, ?it/s]"
      ]
     },
     "metadata": {},
     "output_type": "display_data"
    },
    {
     "data": {
      "application/vnd.jupyter.widget-view+json": {
       "model_id": "df5af5739a6a46cbbf81633ffc3fe356",
       "version_major": 2,
       "version_minor": 0
      },
      "text/plain": [
       "Validation: |          | 0/? [00:00<?, ?it/s]"
      ]
     },
     "metadata": {},
     "output_type": "display_data"
    },
    {
     "name": "stderr",
     "output_type": "stream",
     "text": [
      "Metric val_loss improved by 0.002 >= min_delta = 0.0001. New best score: 3.421\n"
     ]
    },
    {
     "data": {
      "application/vnd.jupyter.widget-view+json": {
       "model_id": "11f227f666b74a3f83eac9f09f69a521",
       "version_major": 2,
       "version_minor": 0
      },
      "text/plain": [
       "Validation: |          | 0/? [00:00<?, ?it/s]"
      ]
     },
     "metadata": {},
     "output_type": "display_data"
    },
    {
     "name": "stderr",
     "output_type": "stream",
     "text": [
      "Metric val_loss improved by 0.002 >= min_delta = 0.0001. New best score: 3.419\n"
     ]
    },
    {
     "data": {
      "application/vnd.jupyter.widget-view+json": {
       "model_id": "14acfd3c070b4e9793456540ebc93e14",
       "version_major": 2,
       "version_minor": 0
      },
      "text/plain": [
       "Validation: |          | 0/? [00:00<?, ?it/s]"
      ]
     },
     "metadata": {},
     "output_type": "display_data"
    },
    {
     "data": {
      "application/vnd.jupyter.widget-view+json": {
       "model_id": "75f3f4ea87de425893bc73bb17ddddd5",
       "version_major": 2,
       "version_minor": 0
      },
      "text/plain": [
       "Validation: |          | 0/? [00:00<?, ?it/s]"
      ]
     },
     "metadata": {},
     "output_type": "display_data"
    },
    {
     "name": "stderr",
     "output_type": "stream",
     "text": [
      "Metric val_loss improved by 0.000 >= min_delta = 0.0001. New best score: 3.419\n"
     ]
    },
    {
     "data": {
      "application/vnd.jupyter.widget-view+json": {
       "model_id": "b3c5c6db057e467bbe5e85e7d09149d5",
       "version_major": 2,
       "version_minor": 0
      },
      "text/plain": [
       "Validation: |          | 0/? [00:00<?, ?it/s]"
      ]
     },
     "metadata": {},
     "output_type": "display_data"
    },
    {
     "data": {
      "application/vnd.jupyter.widget-view+json": {
       "model_id": "c203dc2bfd1c4dc6818d2d5df32198e7",
       "version_major": 2,
       "version_minor": 0
      },
      "text/plain": [
       "Validation: |          | 0/? [00:00<?, ?it/s]"
      ]
     },
     "metadata": {},
     "output_type": "display_data"
    },
    {
     "name": "stderr",
     "output_type": "stream",
     "text": [
      "Metric val_loss improved by 0.002 >= min_delta = 0.0001. New best score: 3.417\n"
     ]
    },
    {
     "data": {
      "application/vnd.jupyter.widget-view+json": {
       "model_id": "44dbeba2a9a748f28a51efd09ab332f0",
       "version_major": 2,
       "version_minor": 0
      },
      "text/plain": [
       "Validation: |          | 0/? [00:00<?, ?it/s]"
      ]
     },
     "metadata": {},
     "output_type": "display_data"
    },
    {
     "data": {
      "application/vnd.jupyter.widget-view+json": {
       "model_id": "9252536625674232b3b21bd92eee704f",
       "version_major": 2,
       "version_minor": 0
      },
      "text/plain": [
       "Validation: |          | 0/? [00:00<?, ?it/s]"
      ]
     },
     "metadata": {},
     "output_type": "display_data"
    },
    {
     "data": {
      "application/vnd.jupyter.widget-view+json": {
       "model_id": "9ff542fda1fd4f99a3903d1a255e3259",
       "version_major": 2,
       "version_minor": 0
      },
      "text/plain": [
       "Validation: |          | 0/? [00:00<?, ?it/s]"
      ]
     },
     "metadata": {},
     "output_type": "display_data"
    },
    {
     "data": {
      "application/vnd.jupyter.widget-view+json": {
       "model_id": "ee90f56bea1b4794a28da22de571f314",
       "version_major": 2,
       "version_minor": 0
      },
      "text/plain": [
       "Validation: |          | 0/? [00:00<?, ?it/s]"
      ]
     },
     "metadata": {},
     "output_type": "display_data"
    },
    {
     "name": "stderr",
     "output_type": "stream",
     "text": [
      "Metric val_loss improved by 0.003 >= min_delta = 0.0001. New best score: 3.414\n"
     ]
    },
    {
     "data": {
      "application/vnd.jupyter.widget-view+json": {
       "model_id": "b98dbacdbb4441f896064d3c831f51d8",
       "version_major": 2,
       "version_minor": 0
      },
      "text/plain": [
       "Validation: |          | 0/? [00:00<?, ?it/s]"
      ]
     },
     "metadata": {},
     "output_type": "display_data"
    },
    {
     "data": {
      "application/vnd.jupyter.widget-view+json": {
       "model_id": "77c0384549024d5cb3a146b388c5073e",
       "version_major": 2,
       "version_minor": 0
      },
      "text/plain": [
       "Validation: |          | 0/? [00:00<?, ?it/s]"
      ]
     },
     "metadata": {},
     "output_type": "display_data"
    },
    {
     "data": {
      "application/vnd.jupyter.widget-view+json": {
       "model_id": "7087dfcf957d4d07acf82a06e7d7c3ec",
       "version_major": 2,
       "version_minor": 0
      },
      "text/plain": [
       "Validation: |          | 0/? [00:00<?, ?it/s]"
      ]
     },
     "metadata": {},
     "output_type": "display_data"
    },
    {
     "data": {
      "application/vnd.jupyter.widget-view+json": {
       "model_id": "1e83423363ce42e8a631ae392a9c3c6f",
       "version_major": 2,
       "version_minor": 0
      },
      "text/plain": [
       "Validation: |          | 0/? [00:00<?, ?it/s]"
      ]
     },
     "metadata": {},
     "output_type": "display_data"
    },
    {
     "data": {
      "application/vnd.jupyter.widget-view+json": {
       "model_id": "de22a280111741c3bfc70d4a5b8c7750",
       "version_major": 2,
       "version_minor": 0
      },
      "text/plain": [
       "Validation: |          | 0/? [00:00<?, ?it/s]"
      ]
     },
     "metadata": {},
     "output_type": "display_data"
    },
    {
     "name": "stderr",
     "output_type": "stream",
     "text": [
      "Metric val_loss improved by 0.000 >= min_delta = 0.0001. New best score: 3.413\n"
     ]
    },
    {
     "data": {
      "application/vnd.jupyter.widget-view+json": {
       "model_id": "fede55898d0c48738ef5dcb270ca9670",
       "version_major": 2,
       "version_minor": 0
      },
      "text/plain": [
       "Validation: |          | 0/? [00:00<?, ?it/s]"
      ]
     },
     "metadata": {},
     "output_type": "display_data"
    },
    {
     "name": "stderr",
     "output_type": "stream",
     "text": [
      "Metric val_loss improved by 0.002 >= min_delta = 0.0001. New best score: 3.412\n"
     ]
    },
    {
     "data": {
      "application/vnd.jupyter.widget-view+json": {
       "model_id": "96c255365e9a486ea3d274240cdd5102",
       "version_major": 2,
       "version_minor": 0
      },
      "text/plain": [
       "Validation: |          | 0/? [00:00<?, ?it/s]"
      ]
     },
     "metadata": {},
     "output_type": "display_data"
    },
    {
     "data": {
      "application/vnd.jupyter.widget-view+json": {
       "model_id": "cbffa980b66f469cbfa3c68922e2aa3b",
       "version_major": 2,
       "version_minor": 0
      },
      "text/plain": [
       "Validation: |          | 0/? [00:00<?, ?it/s]"
      ]
     },
     "metadata": {},
     "output_type": "display_data"
    },
    {
     "name": "stderr",
     "output_type": "stream",
     "text": [
      "Metric val_loss improved by 0.002 >= min_delta = 0.0001. New best score: 3.410\n"
     ]
    },
    {
     "data": {
      "application/vnd.jupyter.widget-view+json": {
       "model_id": "0494fecac73947f69ed9701c677249cc",
       "version_major": 2,
       "version_minor": 0
      },
      "text/plain": [
       "Validation: |          | 0/? [00:00<?, ?it/s]"
      ]
     },
     "metadata": {},
     "output_type": "display_data"
    },
    {
     "data": {
      "application/vnd.jupyter.widget-view+json": {
       "model_id": "824b1b14bf9249d988c1cdb3b1516afe",
       "version_major": 2,
       "version_minor": 0
      },
      "text/plain": [
       "Validation: |          | 0/? [00:00<?, ?it/s]"
      ]
     },
     "metadata": {},
     "output_type": "display_data"
    },
    {
     "data": {
      "application/vnd.jupyter.widget-view+json": {
       "model_id": "a96030a2cf5a44ed85fa757ec8c9f314",
       "version_major": 2,
       "version_minor": 0
      },
      "text/plain": [
       "Validation: |          | 0/? [00:00<?, ?it/s]"
      ]
     },
     "metadata": {},
     "output_type": "display_data"
    },
    {
     "name": "stderr",
     "output_type": "stream",
     "text": [
      "Metric val_loss improved by 0.004 >= min_delta = 0.0001. New best score: 3.406\n"
     ]
    },
    {
     "data": {
      "application/vnd.jupyter.widget-view+json": {
       "model_id": "8bfa63cce2714f48a32f568e122d43e9",
       "version_major": 2,
       "version_minor": 0
      },
      "text/plain": [
       "Validation: |          | 0/? [00:00<?, ?it/s]"
      ]
     },
     "metadata": {},
     "output_type": "display_data"
    },
    {
     "data": {
      "application/vnd.jupyter.widget-view+json": {
       "model_id": "3bd37afb4e334f56b670a2235ba4e935",
       "version_major": 2,
       "version_minor": 0
      },
      "text/plain": [
       "Validation: |          | 0/? [00:00<?, ?it/s]"
      ]
     },
     "metadata": {},
     "output_type": "display_data"
    },
    {
     "data": {
      "application/vnd.jupyter.widget-view+json": {
       "model_id": "a221f98448804229b4c7d4e52ca61f26",
       "version_major": 2,
       "version_minor": 0
      },
      "text/plain": [
       "Validation: |          | 0/? [00:00<?, ?it/s]"
      ]
     },
     "metadata": {},
     "output_type": "display_data"
    },
    {
     "data": {
      "application/vnd.jupyter.widget-view+json": {
       "model_id": "774f93f6ca6e42e995205d5e9db8f55e",
       "version_major": 2,
       "version_minor": 0
      },
      "text/plain": [
       "Validation: |          | 0/? [00:00<?, ?it/s]"
      ]
     },
     "metadata": {},
     "output_type": "display_data"
    },
    {
     "name": "stderr",
     "output_type": "stream",
     "text": [
      "Metric val_loss improved by 0.000 >= min_delta = 0.0001. New best score: 3.406\n"
     ]
    },
    {
     "data": {
      "application/vnd.jupyter.widget-view+json": {
       "model_id": "98117973074e4d628bf6932f1a103f92",
       "version_major": 2,
       "version_minor": 0
      },
      "text/plain": [
       "Validation: |          | 0/? [00:00<?, ?it/s]"
      ]
     },
     "metadata": {},
     "output_type": "display_data"
    },
    {
     "data": {
      "application/vnd.jupyter.widget-view+json": {
       "model_id": "ba2ce0590aa543679324f659033b0078",
       "version_major": 2,
       "version_minor": 0
      },
      "text/plain": [
       "Validation: |          | 0/? [00:00<?, ?it/s]"
      ]
     },
     "metadata": {},
     "output_type": "display_data"
    },
    {
     "name": "stderr",
     "output_type": "stream",
     "text": [
      "Metric val_loss improved by 0.003 >= min_delta = 0.0001. New best score: 3.403\n"
     ]
    },
    {
     "data": {
      "application/vnd.jupyter.widget-view+json": {
       "model_id": "71d5af3352424ae39ad634b854ac9174",
       "version_major": 2,
       "version_minor": 0
      },
      "text/plain": [
       "Validation: |          | 0/? [00:00<?, ?it/s]"
      ]
     },
     "metadata": {},
     "output_type": "display_data"
    },
    {
     "data": {
      "application/vnd.jupyter.widget-view+json": {
       "model_id": "f5f076611040474a8021c83306b61653",
       "version_major": 2,
       "version_minor": 0
      },
      "text/plain": [
       "Validation: |          | 0/? [00:00<?, ?it/s]"
      ]
     },
     "metadata": {},
     "output_type": "display_data"
    },
    {
     "data": {
      "application/vnd.jupyter.widget-view+json": {
       "model_id": "39b990aaafde47928843c3604ca8e670",
       "version_major": 2,
       "version_minor": 0
      },
      "text/plain": [
       "Validation: |          | 0/? [00:00<?, ?it/s]"
      ]
     },
     "metadata": {},
     "output_type": "display_data"
    },
    {
     "data": {
      "application/vnd.jupyter.widget-view+json": {
       "model_id": "99489b159ffe4e04b23928cfe97c0aa0",
       "version_major": 2,
       "version_minor": 0
      },
      "text/plain": [
       "Validation: |          | 0/? [00:00<?, ?it/s]"
      ]
     },
     "metadata": {},
     "output_type": "display_data"
    },
    {
     "data": {
      "application/vnd.jupyter.widget-view+json": {
       "model_id": "5552628563a545999a54f0f13b0ea9b1",
       "version_major": 2,
       "version_minor": 0
      },
      "text/plain": [
       "Validation: |          | 0/? [00:00<?, ?it/s]"
      ]
     },
     "metadata": {},
     "output_type": "display_data"
    },
    {
     "name": "stderr",
     "output_type": "stream",
     "text": [
      "Metric val_loss improved by 0.001 >= min_delta = 0.0001. New best score: 3.402\n"
     ]
    },
    {
     "data": {
      "application/vnd.jupyter.widget-view+json": {
       "model_id": "063d584956b24d37b64e08f030f97bbf",
       "version_major": 2,
       "version_minor": 0
      },
      "text/plain": [
       "Validation: |          | 0/? [00:00<?, ?it/s]"
      ]
     },
     "metadata": {},
     "output_type": "display_data"
    },
    {
     "data": {
      "application/vnd.jupyter.widget-view+json": {
       "model_id": "05c870d493a34f3c8427980f85b337c9",
       "version_major": 2,
       "version_minor": 0
      },
      "text/plain": [
       "Validation: |          | 0/? [00:00<?, ?it/s]"
      ]
     },
     "metadata": {},
     "output_type": "display_data"
    },
    {
     "name": "stderr",
     "output_type": "stream",
     "text": [
      "Metric val_loss improved by 0.001 >= min_delta = 0.0001. New best score: 3.401\n"
     ]
    },
    {
     "data": {
      "application/vnd.jupyter.widget-view+json": {
       "model_id": "a2ae525e45a240369a1d87f9fd1d4145",
       "version_major": 2,
       "version_minor": 0
      },
      "text/plain": [
       "Validation: |          | 0/? [00:00<?, ?it/s]"
      ]
     },
     "metadata": {},
     "output_type": "display_data"
    },
    {
     "name": "stderr",
     "output_type": "stream",
     "text": [
      "Metric val_loss improved by 0.000 >= min_delta = 0.0001. New best score: 3.401\n"
     ]
    },
    {
     "data": {
      "application/vnd.jupyter.widget-view+json": {
       "model_id": "b215c6efd2ed46bb814df3064b54762f",
       "version_major": 2,
       "version_minor": 0
      },
      "text/plain": [
       "Validation: |          | 0/? [00:00<?, ?it/s]"
      ]
     },
     "metadata": {},
     "output_type": "display_data"
    },
    {
     "name": "stderr",
     "output_type": "stream",
     "text": [
      "Metric val_loss improved by 0.001 >= min_delta = 0.0001. New best score: 3.400\n"
     ]
    },
    {
     "data": {
      "application/vnd.jupyter.widget-view+json": {
       "model_id": "8db4f43d89de4d0cadcee402babc9db2",
       "version_major": 2,
       "version_minor": 0
      },
      "text/plain": [
       "Validation: |          | 0/? [00:00<?, ?it/s]"
      ]
     },
     "metadata": {},
     "output_type": "display_data"
    },
    {
     "data": {
      "application/vnd.jupyter.widget-view+json": {
       "model_id": "68da28c24ef5476883b636449f882af9",
       "version_major": 2,
       "version_minor": 0
      },
      "text/plain": [
       "Validation: |          | 0/? [00:00<?, ?it/s]"
      ]
     },
     "metadata": {},
     "output_type": "display_data"
    },
    {
     "name": "stderr",
     "output_type": "stream",
     "text": [
      "`Trainer.fit` stopped: `max_epochs=100` reached.\n",
      "INFO:vierlinden.model.model:Training procedure completed.\n",
      "INFO:vierlinden.model.model:Cleaning up logging files.\n",
      "INFO:vierlinden.model.model:Logging files cleaned up.\n"
     ]
    }
   ],
   "source": [
    "nhits_wrapper = NHiTSTrainingWrapper(train_data, \n",
    "                                     target_col = target, \n",
    "                                     context_length = context_length, \n",
    "                                     prediction_length = prediction_length, \n",
    "                                     batch_size = batch_size, \n",
    "                                     num_workers = num_workers)\n",
    "optimal_lr = nhits_wrapper.find_optimal_learningrate(seed = seed)\n",
    "\n",
    "print(f\"Optimal learning rate: {optimal_lr}\")\n",
    "\n",
    "best_model = nhits_wrapper.train(optimal_lr, loss = MASE(), seed = seed)"
   ]
  },
  {
   "cell_type": "code",
   "execution_count": 5,
   "metadata": {},
   "outputs": [
    {
     "data": {
      "image/png": "[encoded data removed]",
      "text/plain": [
       "<Figure size 1000x600 with 1 Axes>"
      ]
     },
     "metadata": {},
     "output_type": "display_data"
    }
   ],
   "source": [
    "model_filepath = model_output_path + \"/NHiTS_\"  + target + \"_model.pt\"\n",
    "nhits_wrapper.save_trained_model(model_filepath)\n",
    "nhits_wrapper.plot_training_result()"
   ]
  },
  {
   "cell_type": "code",
   "execution_count": 6,
   "metadata": {},
   "outputs": [
    {
     "name": "stderr",
     "output_type": "stream",
     "text": [
      "e:\\Users\\Vipin\\Documents\\BHT\\CalgoLab\\RIWWER\\UT_RIWWER_project\\vierlinden\\model\\model.py:569: FutureWarning: Downcasting object dtype arrays on .fillna, .ffill, .bfill is deprecated and will change in a future version. Call result.infer_objects(copy=False) instead. To opt-in to the future behavior, set `pd.set_option('future.no_silent_downcasting', True)`\n",
      "  new_df.fillna(0, inplace=True)\n",
      "e:\\Users\\Vipin\\Documents\\BHT\\CalgoLab\\RIWWER\\.venv\\lib\\site-packages\\lightning\\pytorch\\trainer\\connectors\\data_connector.py:441: The 'predict_dataloader' does not have many workers which may be a bottleneck. Consider increasing the value of the `num_workers` argument` to `num_workers=11` in the `DataLoader` to improve performance.\n"
     ]
    },
    {
     "name": "stdout",
     "output_type": "stream",
     "text": [
      "MASE =  1.0290093917039966\n"
     ]
    }
   ],
   "source": [
    "from vierlinden.model.model import NHiTSTrainingWrapper, NHiTSPredictionWrapper\n",
    "\n",
    "model = NHiTSTrainingWrapper.load_trained_model(model_filepath)\n",
    "prediction_wrapper = NHiTSPredictionWrapper(model, context_length=context_length, prediction_length=prediction_length, target_col=target)\n",
    "\n",
    "if test_data is None:\n",
    "    df = dp.load_processed_data()\n",
    "    df = dp.prepare_for_target(df, target)\n",
    "    training_df, test_df = dp.split_data(df, split_date='2023-01-01')\n",
    "    \n",
    "prediction_df = prediction_wrapper.predict(test_data)\n",
    "mase = prediction_wrapper.calculate_mase_loss()\n",
    "\n",
    "print(\"MASE = \", mase)"
   ]
  },
  {
   "cell_type": "code",
   "execution_count": 11,
   "metadata": {},
   "outputs": [
    {
     "data": {
      "image/png": "[encoded data removed]",
      "text/plain": [
       "<Figure size 1000x600 with 1 Axes>"
      ]
     },
     "metadata": {},
     "output_type": "display_data"
    }
   ],
   "source": [
    "prediction_wrapper.plot_forecast_for_all(forecast_step_ahead=1, plot_forecast_distribution=True)"
   ]
  },
  {
   "cell_type": "code",
   "execution_count": 24,
   "metadata": {},
   "outputs": [
    {
     "data": {
      "image/png": "[encoded data removed]",
      "text/plain": [
       "<Figure size 1000x600 with 1 Axes>"
      ]
     },
     "metadata": {},
     "output_type": "display_data"
    },
    {
     "data": {
      "image/png": "[encoded data removed]",
      "text/plain": [
       "<Figure size 1000x600 with 1 Axes>"
      ]
     },
     "metadata": {},
     "output_type": "display_data"
    }
   ],
   "source": [
    "prediction_wrapper.plot_forecast_per_time_idx(78)\n",
    "prediction_wrapper.plot_forecast_per_time_idx(83)"
   ]
  }
 ],
 "metadata": {
  "kernelspec": {
   "display_name": ".venv",
   "language": "python",
   "name": "python3"
  },
  "language_info": {
   "codemirror_mode": {
    "name": "ipython",
    "version": 3
   },
   "file_extension": ".py",
   "mimetype": "text/x-python",
   "name": "python",
   "nbconvert_exporter": "python",
   "pygments_lexer": "ipython3",
   "version": "3.10.0"
  }
 },
 "nbformat": 4,
 "nbformat_minor": 2
}
